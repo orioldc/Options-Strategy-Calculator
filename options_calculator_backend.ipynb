{
 "cells": [
  {
   "attachments": {},
   "cell_type": "markdown",
   "metadata": {},
   "source": [
    "# Import data from yfinance API for a specific ticker"
   ]
  },
  {
   "cell_type": "code",
   "execution_count": 1,
   "metadata": {},
   "outputs": [
    {
     "data": {
      "text/html": [
       "<div>\n",
       "<style scoped>\n",
       "    .dataframe tbody tr th:only-of-type {\n",
       "        vertical-align: middle;\n",
       "    }\n",
       "\n",
       "    .dataframe tbody tr th {\n",
       "        vertical-align: top;\n",
       "    }\n",
       "\n",
       "    .dataframe thead th {\n",
       "        text-align: right;\n",
       "    }\n",
       "</style>\n",
       "<table border=\"1\" class=\"dataframe\">\n",
       "  <thead>\n",
       "    <tr style=\"text-align: right;\">\n",
       "      <th></th>\n",
       "      <th>Open</th>\n",
       "      <th>High</th>\n",
       "      <th>Low</th>\n",
       "      <th>Close</th>\n",
       "      <th>Volume</th>\n",
       "      <th>Dividends</th>\n",
       "      <th>Stock Splits</th>\n",
       "    </tr>\n",
       "    <tr>\n",
       "      <th>Date</th>\n",
       "      <th></th>\n",
       "      <th></th>\n",
       "      <th></th>\n",
       "      <th></th>\n",
       "      <th></th>\n",
       "      <th></th>\n",
       "      <th></th>\n",
       "    </tr>\n",
       "  </thead>\n",
       "  <tbody>\n",
       "    <tr>\n",
       "      <th>2023-06-14 00:00:00-04:00</th>\n",
       "      <td>14.25</td>\n",
       "      <td>14.45</td>\n",
       "      <td>13.97</td>\n",
       "      <td>14.20</td>\n",
       "      <td>69748500</td>\n",
       "      <td>0.0</td>\n",
       "      <td>0.0</td>\n",
       "    </tr>\n",
       "    <tr>\n",
       "      <th>2023-06-15 00:00:00-04:00</th>\n",
       "      <td>14.12</td>\n",
       "      <td>14.50</td>\n",
       "      <td>14.12</td>\n",
       "      <td>14.45</td>\n",
       "      <td>61463400</td>\n",
       "      <td>0.0</td>\n",
       "      <td>0.0</td>\n",
       "    </tr>\n",
       "  </tbody>\n",
       "</table>\n",
       "</div>"
      ],
      "text/plain": [
       "                            Open   High    Low  Close    Volume  Dividends  \\\n",
       "Date                                                                         \n",
       "2023-06-14 00:00:00-04:00  14.25  14.45  13.97  14.20  69748500        0.0   \n",
       "2023-06-15 00:00:00-04:00  14.12  14.50  14.12  14.45  61463400        0.0   \n",
       "\n",
       "                           Stock Splits  \n",
       "Date                                     \n",
       "2023-06-14 00:00:00-04:00           0.0  \n",
       "2023-06-15 00:00:00-04:00           0.0  "
      ]
     },
     "execution_count": 1,
     "metadata": {},
     "output_type": "execute_result"
    }
   ],
   "source": [
    "import yfinance as yf\n",
    "import datetime as dt\n",
    "\n",
    "# Define the ticker symbol\n",
    "tickerSymbol = 'F'\n",
    "\n",
    "# Get data for this ticker\n",
    "tickerData = yf.Ticker(tickerSymbol)\n",
    "\n",
    "# define start and today \n",
    "start = dt.date.today() - dt.timedelta(days=365)\n",
    "today = dt.date.today()\n",
    "\n",
    "# Get the historical prices for this ticker\n",
    "tickerDf = tickerData.history(period='1d', start=start, end=today)\n",
    "\n",
    "# See your data\n",
    "tickerDf.tail(2)\n"
   ]
  },
  {
   "cell_type": "code",
   "execution_count": 2,
   "metadata": {},
   "outputs": [],
   "source": [
    "import numpy as np\n",
    "\n",
    "# Reset the index\n",
    "df = tickerDf.reset_index()\n",
    "\n",
    "# Calculate daily returns\n",
    "df['Return'] = df['Close'].pct_change()"
   ]
  },
  {
   "cell_type": "code",
   "execution_count": 3,
   "metadata": {},
   "outputs": [
    {
     "name": "stdout",
     "output_type": "stream",
     "text": [
      "Annualized Volatility: 0.4159880566880184\n",
      "60 Day Volatility: 0.17010169960940172\n",
      "30 Day Volatility: 0.13224867226849474\n",
      "Volatility Classification: Low\n"
     ]
    }
   ],
   "source": [
    "# Calculate volatilities\n",
    "trading_days_in_a_year = 252\n",
    "trading_days_60 = 60\n",
    "trading_days_30 = 30\n",
    "\n",
    "annualized_volatility = df['Return'].std() * np.sqrt(trading_days_in_a_year)\n",
    "sixty_day_volatility = df['Return'].rolling(window=trading_days_60).std().dropna().iloc[-1] * np.sqrt(trading_days_60)\n",
    "thirty_day_volatility = df['Return'].rolling(window=trading_days_30).std().dropna().iloc[-1] * np.sqrt(trading_days_30)\n",
    "\n",
    "# Volatility Classification\n",
    "volatility_classification = 'High' if annualized_volatility >= 0.5 else 'Low'\n",
    "\n",
    "print(f\"Annualized Volatility: {annualized_volatility}\")\n",
    "print(f\"60 Day Volatility: {sixty_day_volatility}\")\n",
    "print(f\"30 Day Volatility: {thirty_day_volatility}\")\n",
    "print(f\"Volatility Classification: {volatility_classification}\")"
   ]
  },
  {
   "cell_type": "code",
   "execution_count": 4,
   "metadata": {},
   "outputs": [],
   "source": [
    "# Prepare the strategies dictionary\n",
    "strategies = {\n",
    "    'Bull Put Spread': {'sentiment': 'Bull', 'volatility': 'High'},\n",
    "    'Short Put': {'sentiment': 'Bull', 'volatility': 'High'},\n",
    "    'Put Broken Wing Butterfly': {'sentiment': 'Bull', 'volatility': 'High'},\n",
    "    'Custom Naked Put': {'sentiment': 'Bull', 'volatility': 'High'},\n",
    "    'Bull Call Spread': {'sentiment': 'Bull', 'volatility': 'Low'},\n",
    "    'Call Calendar Spread': {'sentiment': 'Bull', 'volatility': 'Low'},\n",
    "    'Call Backspread': {'sentiment': 'Bull', 'volatility': 'Low'},\n",
    "    'Put Diagonal Spread': {'sentiment': 'Bull', 'volatility': 'Low'},\n",
    "    'Short Straddle': {'sentiment': 'Neutral', 'volatility': 'High'},\n",
    "    'Short Strangle': {'sentiment': 'Neutral', 'volatility': 'High'},\n",
    "    'Short Iron Condor': {'sentiment': 'Neutral', 'volatility': 'High'},\n",
    "    'Short Iron Butterfly': {'sentiment': 'Neutral', 'volatility': 'High'},\n",
    "    'Bear Call Spread': {'sentiment': 'Bear', 'volatility': 'High'},\n",
    "    'Short Call': {'sentiment': 'Bear', 'volatility': 'High'},\n",
    "    'Call Broken Wing Butterfly': {'sentiment': 'Bear', 'volatility': 'High'},\n",
    "    'Custom Naked Call': {'sentiment': 'Bear', 'volatility': 'High'},\n",
    "    'Bear Put Spread': {'sentiment': 'Bear', 'volatility': 'Low'},\n",
    "    'Put Calendar Spread': {'sentiment': 'Bear', 'volatility': 'Low'},\n",
    "    'Put Backspread': {'sentiment': 'Bear', 'volatility': 'Low'},\n",
    "    'Call Diagonal Spread': {'sentiment': 'Bear', 'volatility': 'Low'},\n",
    "    'Long Put': {'sentiment': 'Bear', 'volatility': 'Low'}\n",
    "}"
   ]
  },
  {
   "attachments": {},
   "cell_type": "markdown",
   "metadata": {},
   "source": [
    "# Ask for user input to start calculation"
   ]
  },
  {
   "cell_type": "code",
   "execution_count": 231,
   "metadata": {},
   "outputs": [
    {
     "name": "stdout",
     "output_type": "stream",
     "text": [
      "Available strategies: dict_keys(['Bull Put Spread', 'Short Put', 'Put Broken Wing Butterfly', 'Custom Naked Put', 'Bull Call Spread', 'Call Calendar Spread', 'Call Backspread', 'Put Diagonal Spread', 'Short Straddle', 'Short Strangle', 'Short Iron Condor', 'Short Iron Butterfly', 'Bear Call Spread', 'Short Call', 'Call Broken Wing Butterfly', 'Custom Naked Call', 'Bear Put Spread', 'Put Calendar Spread', 'Put Backspread', 'Call Diagonal Spread', 'Long Put'])\n",
      "Error fetching 3-month Treasury bill rate:  401 Client Error: Unauthorized for url: https://query1.finance.yahoo.com/v7/finance/quote?formatted=true&lang=en-US&symbols=%5EIRX\n"
     ]
    }
   ],
   "source": [
    "from datetime import datetime\n",
    "import yfinance as yf\n",
    "\n",
    "# User input for the strategy\n",
    "print(f\"Available strategies: {strategies.keys()}\")\n",
    "strategy = input('Enter your chosen strategy: ')\n",
    "\n",
    "# User input for the expiry date\n",
    "expiry_date_input = input('Enter the expiry date (yyyy-mm-dd): ')\n",
    "expiry_date = datetime.strptime(expiry_date_input, '%Y-%m-%d')\n",
    "days_to_expiry = (expiry_date - datetime.now()).days\n",
    "\n",
    "# User input for the second expiry date for calendar/diagonal spreads\n",
    "expiry_date2 = np.nan\n",
    "if 'Calendar' in strategy or 'Diagonal' in strategy:\n",
    "    expiry_date2_input = input('Enter the second expiry date for calendar/diagonal spreads (yyyy-mm-dd): ')\n",
    "    expiry_date2 = datetime.strptime(expiry_date2_input, '%Y-%m-%d')\n",
    "    days_to_expiry2 = (expiry_date2 - datetime.now()).days\n",
    "\n",
    "# Pulling dividend yield from yfinance\n",
    "try:\n",
    "    dividend_yield = df['Dividends'].sum()/df['Close'].iloc[-1]\n",
    "except Exception as e:\n",
    "    print(\"Error fetching dividend yield: \", e)\n",
    "    dividend_yield = 0.0\n",
    "\n",
    "\n",
    "# Pulling 3-month Treasury bill rate from yfinance\n",
    "try:\n",
    "    risk_free_rate_ticker = yf.Ticker('^IRX')\n",
    "    risk_free_rate = risk_free_rate_ticker.info.get('regularMarketPrice', 0) / 100\n",
    "except Exception as e:\n",
    "    print(\"Error fetching 3-month Treasury bill rate: \", e)\n",
    "    risk_free_rate = float(input('Enter the risk-free interest rate: '))\n",
    "\n",
    "\n",
    "# User input for the contract size\n",
    "contract_size = int(input('Enter the contract size (number of shares): '))\n",
    "\n",
    "# User input for the transaction costs\n",
    "transaction_costs = float(input('Enter the transaction costs: '))\n"
   ]
  },
  {
   "attachments": {},
   "cell_type": "markdown",
   "metadata": {},
   "source": [
    "# Strategy mapping"
   ]
  },
  {
   "cell_type": "code",
   "execution_count": 232,
   "metadata": {},
   "outputs": [],
   "source": [
    "strategy_mapping = {\n",
    "    \"Bear Put Spread\":\n",
    "        [{\"leg\":1, \"direction\":\"Long\", \"type\":\"Put\", \"size\":1, \"description\":\"Buy 1 ITM Put; Sell 1 OTM Put at Lower Strike Price. The combination of options should result in a net debit.\"},\n",
    "        {\"leg\":2, \"direction\":\"Short\", \"type\":\"Put\", \"size\":1, \"description\":\"\"}],\n",
    "\n",
    "    \"Long Call\":\n",
    "        [{\"leg\":1, \"direction\":\"Long\", \"type\":\"Call\", \"size\":1, \"description\":\"\"}],\n",
    "\n",
    "    \"Long Put\":\n",
    "        [{\"leg\":1, \"direction\":\"Long\", \"type\":\"Put\", \"size\":1, \"description\":\"\"}],\n",
    "\n",
    "    \"Short Call\":\n",
    "        [{\"leg\":1, \"direction\":\"Short\", \"type\":\"Call\", \"size\":1, \"description\":\"\"}],\n",
    "\n",
    "    \"Short Put\":\n",
    "        [{\"leg\":1, \"direction\":\"Short\", \"type\":\"Put\", \"size\":1, \"description\":\"\"}],\n",
    "\n",
    "    \"Bull Call Spread\":\n",
    "        [{\"leg\":1, \"direction\":\"Long\", \"type\":\"Call\", \"size\":1, \"description\":\"Buy 1 ITM Call; Sell 1 OTM Call at Higher Strike Price. The combination of options should result in a net debit.\"},\n",
    "        {\"leg\":2, \"direction\":\"Short\", \"type\":\"Call\", \"size\":1, \"description\":\"\"}],\n",
    "\n",
    "    \"Bull Put Spread\":\n",
    "        [{\"leg\":1, \"direction\":\"Long\", \"type\":\"Put\", \"size\":1, \"description\":\"Sell 1 OTM Put; Buy 1 OTM Put at Lower Strike Price. The combination of options should result in a net overall credit.\"},\n",
    "        {\"leg\":2, \"direction\":\"Short\", \"type\":\"Put\", \"size\":1, \"description\":\"\"}],\n",
    "\n",
    "    \"Short Naked Put\":\n",
    "        [{\"leg\":1, \"direction\":\"Short\", \"type\":\"Put\", \"size\":1, \"description\":\"Sell 1 OTM Put below the market for a credit.\"}],\n",
    "\n",
    "    \"Put Broken Wing Butterfly\":\n",
    "        [{\"leg\":1, \"direction\":\"Long\", \"type\":\"Put\", \"size\":1, \"description\":\"Buy 1 ITM Put; Sell 2 OTM Puts near the ATM options; Skip Strike and Buy 1 OTM Put. If possible the trade is done for a net credit.\"},\n",
    "        {\"leg\":2, \"direction\":\"Short\", \"type\":\"Put (x2)\", \"size\":2, \"description\":\"\"},\n",
    "        {\"leg\":3, \"direction\":\"Long\", \"type\":\"Put (skip 1 strike from put)\", \"size\":1, \"description\":\"\"}],\n",
    "\n",
    "    \"Custom Naked Put\":\n",
    "        [{\"leg\":1, \"direction\":\"Short\", \"type\":\"Put\", \"size\":1, \"description\":\"Sell 1 OTM Put; Sell 1 OTM Call; Buy 1 OTM Call at Higher Strike Price. If possible the trade is done for a net credit wider than call spread width.\"},\n",
    "        {\"leg\":2, \"direction\":\"Short\", \"type\":\"Call\", \"size\":1, \"description\":\"\"},\n",
    "        {\"leg\":3, \"direction\":\"Long\", \"type\":\"Call (credit should be > call spread)\", \"size\":1, \"description\":\"\"}],\n",
    "\n",
    "    \"Call Calendar Spread\":\n",
    "        [{\"leg\":1, \"direction\":\"Short\", \"type\":\"Call\", \"size\":1, \"description\":\"Sell 1 OTM Call in the Front Month; Buy 1 OTM Call in the Back Month at the Same Strike Price. The combination of options should result in a net debit.\"},\n",
    "        {\"leg\":2, \"direction\":\"Long\", \"type\":\"Call\", \"size\":1, \"description\":\"\"}],\n",
    "\n",
    "    \"Call Backspread\":\n",
    "        [{\"leg\":1, \"direction\":\"Short\", \"type\":\"Call\", \"size\":1, \"description\":\"Sell 1 ATM Call; Buy 2 OTM Calls at Higher Strike Price. The combination of options should result in a net debit.\"},\n",
    "        {\"leg\":2, \"direction\":\"Long\", \"type\":\"Call (x2)\", \"size\":2, \"description\":\"\"}],\n",
    "\n",
    "    \"Put Diagonal Spread\":\n",
    "        [{\"leg\":1 , \"direction\":\"Short\", \"type\":\"Put\", \"size\":1, \"description\":\"Sell 1 OTM Put in the Front Month; Buy 1 OTM Put in the Back Month at a Lower Strike Price. The combination of options should result in a net debit.\"},\n",
    "        {\"leg\":2, \"direction\":\"Long\", \"type\":\"Put\", \"size\":1, \"description\":\"\"}],\n",
    "\n",
    "    \"Short Straddle\":\n",
    "        [{\"leg\":1, \"direction\":\"Short\", \"type\":\"Put\", \"size\":1, \"description\":\"Sell 1 ATM Put; Sell 1 ATM Call at Same Strike Price. The result of both sales is a net credit.\"},\n",
    "        {\"leg\":2, \"direction\":\"Short\", \"type\":\"Call\", \"size\":1, \"description\":\"\"}],\n",
    "    \"Short Strangle\":    \n",
    "        [{\"leg\":1, \"direction\":\"Short\", \"type\":\"Put\", \"size\":1, \"description\":\"Sell 1 OTM Put; Sell 1 OTM Call at Far Out Strike Prices. The result of both sales is a net credit.\"},\n",
    "        {\"leg\":2, \"direction\":\"Short\", \"type\":\"Call\", \"size\":1, \"description\":\"\"}],\n",
    "\n",
    "    \"Short Iron Condor\":\n",
    "        [{\"leg\":1, \"direction\":\"Long\", \"type\":\"Put\", \"size\":1, \"description\":\"Buy 1 OTM Put; Sell 1 OTM Put at Higher Strike; Sell 1 OTM Call; Buy 1 OTM Call at Higher Strike. The combination should yield a net credit.\"},\n",
    "        {\"leg\":2, \"direction\":\"Short\", \"type\":\"Put\", \"size\":1, \"description\":\"\"},\n",
    "        {\"leg\":3, \"direction\":\"Short\", \"type\":\"Call\", \"size\":1, \"description\":\"\"},\n",
    "        {\"leg\":4, \"direction\":\"Long\", \"type\":\"Call\", \"size\":1, \"description\":\"\"}],\n",
    "\n",
    "    \"Short Iron Butterfly\":\n",
    "        [{\"leg\":1, \"direction\":\"Long\", \"type\":\"Put\", \"size\":1, \"description\":\"Sell 1 ATM Put; Buy 1 OTM Put at Lower Strike; Sell 1 ATM Call; Buy 1 OTM Call at Higher Strike. The combination should yield a net credit.\"},\n",
    "        {\"leg\":2, \"direction\":\"Short\", \"type\":\"Put\", \"size\":1, \"description\":\"\"},\n",
    "        {\"leg\":3, \"direction\":\"Short\", \"type\":\"Call\", \"size\":1, \"description\":\"\"},\n",
    "        {\"leg\":4, \"direction\":\"Long\", \"type\":\"Call\", \"size\":1, \"description\":\"\"}],\n",
    "\n",
    "    \"Bear Call Spread\":\n",
    "        [{\"leg\":1, \"direction\":\"Short\", \"type\":\"Call\", \"size\":1, \"description\":\"Sell 1 OTM Call; Buy 1 OTM Call at Higher Strike Price. The combination of options should result in a net overall credit.\"},\n",
    "        {\"leg\":2, \"direction\":\"Long\", \"type\":\"Call\", \"size\":1, \"description\":\"\"}],\n",
    "\n",
    "    \"Call Broken Wing Butterfly\":\n",
    "        [{\"leg\":1, \"direction\":\"Long\", \"type\":\"Call\", \"size\":1, \"description\":\"Buy 1 ITM Call; Sell 2 OTM Calls near the ATM options; Skip Strike and Buy 1 OTM Call. If possible the trade is done for a net credit.\"},\n",
    "        {\"leg\":2, \"direction\":\"Short\", \"type\":\"Call (x2)\", \"size\":2, \"description\":\"\"},\n",
    "        {\"leg\":3, \"direction\":\"Long\", \"type\":\"Call (skip 1 strike from previous)\", \"size\":1, \"description\":\"\"}],\n",
    "\n",
    "    \"Custom Naked Call\":\n",
    "        [{\"leg\":1, \"direction\":\"Short\", \"type\":\"Call\", \"size\":1, \"description\":\"Sell 1 OTM Call; Sell 1 OTM Put; Buy 1 OTM Put at Lower Strike Price. If possible the trade is done for a net credit wider than call spread width.\"},\n",
    "        {\"leg\":2, \"direction\":\"Short\", \"type\":\"Put\", \"size\":1, \"description\":\"\"},\n",
    "        {\"leg\":3, \"direction\":\"Long\", \"type\":\"Put\", \"size\":1, \"description\":\"\"}],\n",
    "    \n",
    "    \"Put Calendar Spread\":\n",
    "        [{\"leg\":1, \"direction\":\"Short\", \"type\":\"Put\", \"size\":1, \"description\":\"Sell 1 OTM Put in the Front Month; Buy 1 OTM Put in the Back Month at the Same Strike Price. The combination of options should result in a net debit.\"},\n",
    "        {\"leg\":2 , \"direction\":\"Long\", \"type\":\"Put\", \"size\":1, \"description\":\"\"}],\n",
    "\n",
    "    \"Put Backspread\":\n",
    "        [{\"leg\":1, \"direction\":\"Short\", \"type\":\"Put\", \"size\":1, \"description\":\"Sell 1 ATM Put; Buy 2 OTM Puts at Lower Strike Price. The combination of options should result in a net debit.\"},\n",
    "        {\"leg\":2, \"direction\":\"Long\", \"type\":\"Put (x2)\", \"size\":2, \"description\":\"\"}],\n",
    "\n",
    "    \"Call Diagonal Spread\":\n",
    "        [{\"leg\":1, \"direction\":\"Short\", \"type\":\"Call\", \"size\":1, \"description\":\"Sell 1 OTM Call in the Front Month; Buy 1 OTM Call in the Back Month at a Higher Strike Price. The combination of options should result in a net debit.\"},\n",
    "        {\"leg\":2, \"direction\":\"Long\", \"type\":\"Call\", \"size\":1, \"description\":\"\"}],\n",
    "\n",
    "    \"Synthetic Long\":\n",
    "        [{\"leg\":1, \"direction\":\"Long\", \"type\":\"Call\", \"size\":1, \"description\":\"Buy 1 ATM Call option and Sell 1 ATM Put option\"},\n",
    "        {\"leg\":2, \"direction\":\"Short\", \"type\":\"Put\", \"size\":1, \"description\":\"\"}]\n",
    "}\n"
   ]
  },
  {
   "attachments": {},
   "cell_type": "markdown",
   "metadata": {},
   "source": [
    "# Build BlackScholes Model calculator\n"
   ]
  },
  {
   "cell_type": "code",
   "execution_count": 233,
   "metadata": {},
   "outputs": [],
   "source": [
    "import numpy as np\n",
    "from scipy.stats import norm\n",
    "from datetime import datetime\n",
    "\n",
    "def black_scholes_option_price(df, strategy_mapping, chosen_strategy, risk_free_rate, dividend_yield, actual_strike_price):\n",
    "    strategy_legs = strategy_mapping[chosen_strategy]\n",
    "    option_prices = []\n",
    "    visualization_values = None\n",
    "    is_diagonal_or_calendar = \"diagonal\" in chosen_strategy.lower() or \"calendar\" in chosen_strategy.lower()\n",
    "\n",
    "    for i, leg in enumerate(strategy_legs):\n",
    "        if i == 0 or expiry_date2 is None or not is_diagonal_or_calendar:\n",
    "            time_to_maturity = days_to_expiry / 365\n",
    "        else:\n",
    "            time_to_maturity = days_to_expiry2 / 365\n",
    "            if i == 1:\n",
    "                visualization_time_to_maturity = (days_to_expiry2 - days_to_expiry) / 365\n",
    "                visualization_discount_factor = (1 + (risk_free_rate / 100)) ** (-visualization_time_to_maturity)\n",
    "                visualization_dividend_factor = (1 + dividend_yield) ** (-visualization_time_to_maturity)\n",
    "                visualization_fwd_spot = visualization_dividend_factor / visualization_discount_factor\n",
    "                visualization_forward = visualization_fwd_spot * df['Close'].iloc[-1]\n",
    "                visualization_vol_sqrt = max(annualized_volatility * np.sqrt(visualization_time_to_maturity), 1e-30)\n",
    "                visualization_d1 = (np.log(visualization_forward / actual_strike_price[leg['leg']-1]) / visualization_vol_sqrt) + visualization_vol_sqrt * 0.5\n",
    "                visualization_d2 = visualization_d1 - visualization_vol_sqrt\n",
    "                visualization_cumulative_norm_d1 = norm.cdf(visualization_d1, 0, 1)\n",
    "                visualization_cumulative_norm_d2 = norm.cdf(visualization_d2, 0, 1)\n",
    "                visualization_call_price = visualization_forward * visualization_discount_factor * visualization_cumulative_norm_d1 - actual_strike_price[leg['leg']-1] * visualization_cumulative_norm_d2 * visualization_discount_factor\n",
    "                visualization_put_price = actual_strike_price[leg['leg']-1] * visualization_discount_factor - visualization_forward * visualization_discount_factor + visualization_call_price\n",
    "                visualization_values = {'time_to_maturity': visualization_time_to_maturity, 'discount_factor': visualization_discount_factor, 'dividend_factor': visualization_dividend_factor, 'fwd_spot': visualization_fwd_spot, 'forward': visualization_forward, 'vol_sqrt': visualization_vol_sqrt, 'd1': visualization_d1, 'd2': visualization_d2, 'cumulative_norm_d1': visualization_cumulative_norm_d1, 'cumulative_norm_d2': visualization_cumulative_norm_d2, 'call_price': visualization_call_price, 'put_price': visualization_put_price}\n",
    "\n",
    "        discount_factor = (1 + (risk_free_rate / 100)) ** (-time_to_maturity)\n",
    "        dividend_factor = (1 + dividend_yield) ** (-time_to_maturity)\n",
    "        fwd_spot = dividend_factor / discount_factor\n",
    "        forward = fwd_spot * df['Close'].iloc[-1]\n",
    "        vol_sqrt = max(annualized_volatility * np.sqrt(time_to_maturity), 1e-30)\n",
    "        \n",
    "        d1 = (np.log(forward / actual_strike_price[leg['leg']-1]) / vol_sqrt) + vol_sqrt * 0.5\n",
    "        d2 = d1 - vol_sqrt\n",
    "        cumulative_norm_d1 = norm.cdf(d1, 0, 1)\n",
    "        cumulative_norm_d2 = norm.cdf(d2, 0, 1)\n",
    "        call_price = forward * discount_factor * cumulative_norm_d1 - actual_strike_price[leg['leg']-1] * cumulative_norm_d2 * discount_factor\n",
    "        put_price = actual_strike_price[leg['leg']-1] * discount_factor - forward * discount_factor + call_price\n",
    "        option_price = call_price if leg['type'] in ['Call', 'Call (x2)', 'Call (credit should be > call spread)', 'Call (skip 1 strike from previous)'] else put_price\n",
    "        option_prices.append(option_price)\n",
    "\n",
    "    return option_prices, visualization_values\n"
   ]
  },
  {
   "cell_type": "code",
   "execution_count": 234,
   "metadata": {},
   "outputs": [],
   "source": [
    "strike_prices = [14, 14]"
   ]
  },
  {
   "cell_type": "code",
   "execution_count": 235,
   "metadata": {},
   "outputs": [
    {
     "data": {
      "text/plain": [
       "([0.5319178336829617, 0.7892516941824868],\n",
       " {'time_to_maturity': 0.07671232876712329,\n",
       "  'discount_factor': 0.9962059831895977,\n",
       "  'dividend_factor': 0.9936556727780737,\n",
       "  'fwd_spot': 0.9974399768174864,\n",
       "  'forward': 14.4130074747661,\n",
       "  'vol_sqrt': 0.11521617291104878,\n",
       "  'd1': 0.3099491021634996,\n",
       "  'd2': 0.19473292925245078,\n",
       "  'cumulative_norm_d1': 0.621700168970513,\n",
       "  'cumulative_norm_d2': 0.5771989842222467,\n",
       "  'call_price': 0.8764454903021743,\n",
       "  'put_price': 0.4650049728381571})"
      ]
     },
     "execution_count": 235,
     "metadata": {},
     "output_type": "execute_result"
    }
   ],
   "source": [
    "# use the function to calculate option prices, remember to pass the strike price(s) as a list always\n",
    "\n",
    "black_scholes_option_price(df,strategy_mapping,strategy,risk_free_rate, dividend_yield, strike_prices)"
   ]
  },
  {
   "cell_type": "code",
   "execution_count": 236,
   "metadata": {},
   "outputs": [],
   "source": [
    "#define option prices\n",
    "\n",
    "option_prices = black_scholes_option_price(df,strategy_mapping,strategy,risk_free_rate, dividend_yield, strike_prices)\n",
    "\n",
    "option_prices = option_prices[0]"
   ]
  },
  {
   "cell_type": "code",
   "execution_count": 237,
   "metadata": {},
   "outputs": [
    {
     "data": {
      "text/plain": [
       "{'time_to_maturity': 0.07671232876712329,\n",
       " 'discount_factor': 0.9962059831895977,\n",
       " 'dividend_factor': 0.9936556727780737,\n",
       " 'fwd_spot': 0.9974399768174864,\n",
       " 'forward': 14.4130074747661,\n",
       " 'vol_sqrt': 0.11521617291104878,\n",
       " 'd1': 0.3099491021634996,\n",
       " 'd2': 0.19473292925245078,\n",
       " 'cumulative_norm_d1': 0.621700168970513,\n",
       " 'cumulative_norm_d2': 0.5771989842222467,\n",
       " 'call_price': 0.8764454903021743,\n",
       " 'put_price': 0.4650049728381571}"
      ]
     },
     "execution_count": 237,
     "metadata": {},
     "output_type": "execute_result"
    }
   ],
   "source": [
    "spread_visualisation_metrics = black_scholes_option_price(df,strategy_mapping,strategy,risk_free_rate, dividend_yield, strike_prices)\n",
    "\n",
    "spread_visualisation_metrics = spread_visualisation_metrics[1]\n",
    "\n",
    "spread_visualisation_metrics\n"
   ]
  },
  {
   "attachments": {},
   "cell_type": "markdown",
   "metadata": {},
   "source": [
    "# It works!"
   ]
  },
  {
   "attachments": {},
   "cell_type": "markdown",
   "metadata": {},
   "source": [
    "# Create the table for the P/L chart"
   ]
  },
  {
   "cell_type": "code",
   "execution_count": 238,
   "metadata": {},
   "outputs": [],
   "source": [
    "import pandas as pd\n",
    "import numpy as np\n",
    "\n",
    "# define your high_value, low_value and increment_steps as you described\n",
    "high_value = df['Close'].iloc[-1] * (1 + annualized_volatility)\n",
    "low_value = max(df['Close'].iloc[-1] * (1 - annualized_volatility), 0.01)\n",
    "range_diff = high_value - low_value\n",
    "\n",
    "if range_diff < 500:\n",
    "    increment_steps = 0.2\n",
    "elif range_diff < 5000:\n",
    "    increment_steps = 1\n",
    "else:\n",
    "    increment_steps = 5\n",
    "\n",
    "# create an array for your price_range using np.arange\n",
    "price_range = np.arange(low_value, high_value + increment_steps, increment_steps)\n",
    "\n",
    "# create a DataFrame using this array\n",
    "pl_table = pd.DataFrame(price_range, columns=['price_range'])\n",
    "\n",
    "# calculate cost_contract column\n",
    "\n",
    "pl_table['cost_contract'] = pl_table['price_range'] * contract_size\n",
    "\n",
    "# add additional columns\n",
    "columns = ['difference_leg_1', 'difference_leg_2', 'difference_leg_3', 'difference_leg_4', 'cost', 'profit', 'leg2diagonalForward', 'leg2diagonald1', 'leg2diagonald2', 'leg2diagonalcumulative_norm_d1', 'leg2diagonalcumulative_norm_d2', 'leg2diagonalcall_option', 'leg2diagonalput_option', 'leg2diagonaloption_sell']\n",
    "for column in columns:\n",
    "    pl_table[column] = np.nan\n"
   ]
  },
  {
   "cell_type": "code",
   "execution_count": 239,
   "metadata": {},
   "outputs": [
    {
     "data": {
      "text/html": [
       "<div>\n",
       "<style scoped>\n",
       "    .dataframe tbody tr th:only-of-type {\n",
       "        vertical-align: middle;\n",
       "    }\n",
       "\n",
       "    .dataframe tbody tr th {\n",
       "        vertical-align: top;\n",
       "    }\n",
       "\n",
       "    .dataframe thead th {\n",
       "        text-align: right;\n",
       "    }\n",
       "</style>\n",
       "<table border=\"1\" class=\"dataframe\">\n",
       "  <thead>\n",
       "    <tr style=\"text-align: right;\">\n",
       "      <th></th>\n",
       "      <th>price_range</th>\n",
       "      <th>cost_contract</th>\n",
       "      <th>difference_leg_1</th>\n",
       "      <th>difference_leg_2</th>\n",
       "      <th>difference_leg_3</th>\n",
       "      <th>difference_leg_4</th>\n",
       "      <th>cost</th>\n",
       "      <th>profit</th>\n",
       "      <th>leg2diagonalForward</th>\n",
       "      <th>leg2diagonald1</th>\n",
       "      <th>leg2diagonald2</th>\n",
       "      <th>leg2diagonalcumulative_norm_d1</th>\n",
       "      <th>leg2diagonalcumulative_norm_d2</th>\n",
       "      <th>leg2diagonalcall_option</th>\n",
       "      <th>leg2diagonalput_option</th>\n",
       "      <th>leg2diagonaloption_sell</th>\n",
       "    </tr>\n",
       "  </thead>\n",
       "  <tbody>\n",
       "    <tr>\n",
       "      <th>0</th>\n",
       "      <td>8.438972</td>\n",
       "      <td>843.897247</td>\n",
       "      <td>NaN</td>\n",
       "      <td>NaN</td>\n",
       "      <td>NaN</td>\n",
       "      <td>NaN</td>\n",
       "      <td>NaN</td>\n",
       "      <td>NaN</td>\n",
       "      <td>NaN</td>\n",
       "      <td>NaN</td>\n",
       "      <td>NaN</td>\n",
       "      <td>NaN</td>\n",
       "      <td>NaN</td>\n",
       "      <td>NaN</td>\n",
       "      <td>NaN</td>\n",
       "      <td>NaN</td>\n",
       "    </tr>\n",
       "    <tr>\n",
       "      <th>1</th>\n",
       "      <td>8.638972</td>\n",
       "      <td>863.897247</td>\n",
       "      <td>NaN</td>\n",
       "      <td>NaN</td>\n",
       "      <td>NaN</td>\n",
       "      <td>NaN</td>\n",
       "      <td>NaN</td>\n",
       "      <td>NaN</td>\n",
       "      <td>NaN</td>\n",
       "      <td>NaN</td>\n",
       "      <td>NaN</td>\n",
       "      <td>NaN</td>\n",
       "      <td>NaN</td>\n",
       "      <td>NaN</td>\n",
       "      <td>NaN</td>\n",
       "      <td>NaN</td>\n",
       "    </tr>\n",
       "    <tr>\n",
       "      <th>2</th>\n",
       "      <td>8.838972</td>\n",
       "      <td>883.897247</td>\n",
       "      <td>NaN</td>\n",
       "      <td>NaN</td>\n",
       "      <td>NaN</td>\n",
       "      <td>NaN</td>\n",
       "      <td>NaN</td>\n",
       "      <td>NaN</td>\n",
       "      <td>NaN</td>\n",
       "      <td>NaN</td>\n",
       "      <td>NaN</td>\n",
       "      <td>NaN</td>\n",
       "      <td>NaN</td>\n",
       "      <td>NaN</td>\n",
       "      <td>NaN</td>\n",
       "      <td>NaN</td>\n",
       "    </tr>\n",
       "    <tr>\n",
       "      <th>3</th>\n",
       "      <td>9.038972</td>\n",
       "      <td>903.897247</td>\n",
       "      <td>NaN</td>\n",
       "      <td>NaN</td>\n",
       "      <td>NaN</td>\n",
       "      <td>NaN</td>\n",
       "      <td>NaN</td>\n",
       "      <td>NaN</td>\n",
       "      <td>NaN</td>\n",
       "      <td>NaN</td>\n",
       "      <td>NaN</td>\n",
       "      <td>NaN</td>\n",
       "      <td>NaN</td>\n",
       "      <td>NaN</td>\n",
       "      <td>NaN</td>\n",
       "      <td>NaN</td>\n",
       "    </tr>\n",
       "    <tr>\n",
       "      <th>4</th>\n",
       "      <td>9.238972</td>\n",
       "      <td>923.897247</td>\n",
       "      <td>NaN</td>\n",
       "      <td>NaN</td>\n",
       "      <td>NaN</td>\n",
       "      <td>NaN</td>\n",
       "      <td>NaN</td>\n",
       "      <td>NaN</td>\n",
       "      <td>NaN</td>\n",
       "      <td>NaN</td>\n",
       "      <td>NaN</td>\n",
       "      <td>NaN</td>\n",
       "      <td>NaN</td>\n",
       "      <td>NaN</td>\n",
       "      <td>NaN</td>\n",
       "      <td>NaN</td>\n",
       "    </tr>\n",
       "    <tr>\n",
       "      <th>...</th>\n",
       "      <td>...</td>\n",
       "      <td>...</td>\n",
       "      <td>...</td>\n",
       "      <td>...</td>\n",
       "      <td>...</td>\n",
       "      <td>...</td>\n",
       "      <td>...</td>\n",
       "      <td>...</td>\n",
       "      <td>...</td>\n",
       "      <td>...</td>\n",
       "      <td>...</td>\n",
       "      <td>...</td>\n",
       "      <td>...</td>\n",
       "      <td>...</td>\n",
       "      <td>...</td>\n",
       "      <td>...</td>\n",
       "    </tr>\n",
       "    <tr>\n",
       "      <th>57</th>\n",
       "      <td>19.838972</td>\n",
       "      <td>1983.897247</td>\n",
       "      <td>NaN</td>\n",
       "      <td>NaN</td>\n",
       "      <td>NaN</td>\n",
       "      <td>NaN</td>\n",
       "      <td>NaN</td>\n",
       "      <td>NaN</td>\n",
       "      <td>NaN</td>\n",
       "      <td>NaN</td>\n",
       "      <td>NaN</td>\n",
       "      <td>NaN</td>\n",
       "      <td>NaN</td>\n",
       "      <td>NaN</td>\n",
       "      <td>NaN</td>\n",
       "      <td>NaN</td>\n",
       "    </tr>\n",
       "    <tr>\n",
       "      <th>58</th>\n",
       "      <td>20.038972</td>\n",
       "      <td>2003.897247</td>\n",
       "      <td>NaN</td>\n",
       "      <td>NaN</td>\n",
       "      <td>NaN</td>\n",
       "      <td>NaN</td>\n",
       "      <td>NaN</td>\n",
       "      <td>NaN</td>\n",
       "      <td>NaN</td>\n",
       "      <td>NaN</td>\n",
       "      <td>NaN</td>\n",
       "      <td>NaN</td>\n",
       "      <td>NaN</td>\n",
       "      <td>NaN</td>\n",
       "      <td>NaN</td>\n",
       "      <td>NaN</td>\n",
       "    </tr>\n",
       "    <tr>\n",
       "      <th>59</th>\n",
       "      <td>20.238972</td>\n",
       "      <td>2023.897247</td>\n",
       "      <td>NaN</td>\n",
       "      <td>NaN</td>\n",
       "      <td>NaN</td>\n",
       "      <td>NaN</td>\n",
       "      <td>NaN</td>\n",
       "      <td>NaN</td>\n",
       "      <td>NaN</td>\n",
       "      <td>NaN</td>\n",
       "      <td>NaN</td>\n",
       "      <td>NaN</td>\n",
       "      <td>NaN</td>\n",
       "      <td>NaN</td>\n",
       "      <td>NaN</td>\n",
       "      <td>NaN</td>\n",
       "    </tr>\n",
       "    <tr>\n",
       "      <th>60</th>\n",
       "      <td>20.438972</td>\n",
       "      <td>2043.897247</td>\n",
       "      <td>NaN</td>\n",
       "      <td>NaN</td>\n",
       "      <td>NaN</td>\n",
       "      <td>NaN</td>\n",
       "      <td>NaN</td>\n",
       "      <td>NaN</td>\n",
       "      <td>NaN</td>\n",
       "      <td>NaN</td>\n",
       "      <td>NaN</td>\n",
       "      <td>NaN</td>\n",
       "      <td>NaN</td>\n",
       "      <td>NaN</td>\n",
       "      <td>NaN</td>\n",
       "      <td>NaN</td>\n",
       "    </tr>\n",
       "    <tr>\n",
       "      <th>61</th>\n",
       "      <td>20.638972</td>\n",
       "      <td>2063.897247</td>\n",
       "      <td>NaN</td>\n",
       "      <td>NaN</td>\n",
       "      <td>NaN</td>\n",
       "      <td>NaN</td>\n",
       "      <td>NaN</td>\n",
       "      <td>NaN</td>\n",
       "      <td>NaN</td>\n",
       "      <td>NaN</td>\n",
       "      <td>NaN</td>\n",
       "      <td>NaN</td>\n",
       "      <td>NaN</td>\n",
       "      <td>NaN</td>\n",
       "      <td>NaN</td>\n",
       "      <td>NaN</td>\n",
       "    </tr>\n",
       "  </tbody>\n",
       "</table>\n",
       "<p>62 rows × 16 columns</p>\n",
       "</div>"
      ],
      "text/plain": [
       "    price_range  cost_contract  difference_leg_1  difference_leg_2  \\\n",
       "0      8.438972     843.897247               NaN               NaN   \n",
       "1      8.638972     863.897247               NaN               NaN   \n",
       "2      8.838972     883.897247               NaN               NaN   \n",
       "3      9.038972     903.897247               NaN               NaN   \n",
       "4      9.238972     923.897247               NaN               NaN   \n",
       "..          ...            ...               ...               ...   \n",
       "57    19.838972    1983.897247               NaN               NaN   \n",
       "58    20.038972    2003.897247               NaN               NaN   \n",
       "59    20.238972    2023.897247               NaN               NaN   \n",
       "60    20.438972    2043.897247               NaN               NaN   \n",
       "61    20.638972    2063.897247               NaN               NaN   \n",
       "\n",
       "    difference_leg_3  difference_leg_4  cost  profit  leg2diagonalForward  \\\n",
       "0                NaN               NaN   NaN     NaN                  NaN   \n",
       "1                NaN               NaN   NaN     NaN                  NaN   \n",
       "2                NaN               NaN   NaN     NaN                  NaN   \n",
       "3                NaN               NaN   NaN     NaN                  NaN   \n",
       "4                NaN               NaN   NaN     NaN                  NaN   \n",
       "..               ...               ...   ...     ...                  ...   \n",
       "57               NaN               NaN   NaN     NaN                  NaN   \n",
       "58               NaN               NaN   NaN     NaN                  NaN   \n",
       "59               NaN               NaN   NaN     NaN                  NaN   \n",
       "60               NaN               NaN   NaN     NaN                  NaN   \n",
       "61               NaN               NaN   NaN     NaN                  NaN   \n",
       "\n",
       "    leg2diagonald1  leg2diagonald2  leg2diagonalcumulative_norm_d1  \\\n",
       "0              NaN             NaN                             NaN   \n",
       "1              NaN             NaN                             NaN   \n",
       "2              NaN             NaN                             NaN   \n",
       "3              NaN             NaN                             NaN   \n",
       "4              NaN             NaN                             NaN   \n",
       "..             ...             ...                             ...   \n",
       "57             NaN             NaN                             NaN   \n",
       "58             NaN             NaN                             NaN   \n",
       "59             NaN             NaN                             NaN   \n",
       "60             NaN             NaN                             NaN   \n",
       "61             NaN             NaN                             NaN   \n",
       "\n",
       "    leg2diagonalcumulative_norm_d2  leg2diagonalcall_option  \\\n",
       "0                              NaN                      NaN   \n",
       "1                              NaN                      NaN   \n",
       "2                              NaN                      NaN   \n",
       "3                              NaN                      NaN   \n",
       "4                              NaN                      NaN   \n",
       "..                             ...                      ...   \n",
       "57                             NaN                      NaN   \n",
       "58                             NaN                      NaN   \n",
       "59                             NaN                      NaN   \n",
       "60                             NaN                      NaN   \n",
       "61                             NaN                      NaN   \n",
       "\n",
       "    leg2diagonalput_option  leg2diagonaloption_sell  \n",
       "0                      NaN                      NaN  \n",
       "1                      NaN                      NaN  \n",
       "2                      NaN                      NaN  \n",
       "3                      NaN                      NaN  \n",
       "4                      NaN                      NaN  \n",
       "..                     ...                      ...  \n",
       "57                     NaN                      NaN  \n",
       "58                     NaN                      NaN  \n",
       "59                     NaN                      NaN  \n",
       "60                     NaN                      NaN  \n",
       "61                     NaN                      NaN  \n",
       "\n",
       "[62 rows x 16 columns]"
      ]
     },
     "execution_count": 239,
     "metadata": {},
     "output_type": "execute_result"
    }
   ],
   "source": [
    "pl_table"
   ]
  },
  {
   "cell_type": "code",
   "execution_count": 240,
   "metadata": {},
   "outputs": [],
   "source": [
    "\n",
    "#define the leg size based on the strategy_mapping \n",
    "\n",
    "leg_size = strategy_mapping[strategy][0]['size']  \n",
    "\n",
    "#define a function to fill difference_leg_1\n",
    "\n",
    "def calculate_difference_leg1(row):\n",
    "    price_range = row['price_range']\n",
    "    if strategy == \"Bear Put Spread\":\n",
    "        return max(0, (strike_prices[0] - price_range)) * leg_size * contract_size\n",
    "    elif strategy == \"Long Call\":\n",
    "        return max(0, (price_range - strike_prices[0])) * leg_size * contract_size\n",
    "    elif strategy == \"Long Put\":\n",
    "        return max(0, ((strike_prices[0]*contract_size) - row['cost_contract'])) * leg_size if strike_prices[0]-price_range>=0 else 0\n",
    "    elif strategy == \"Short Call\":\n",
    "        return max(0, (price_range - strike_prices[0])) * contract_size * leg_size\n",
    "    elif strategy == \"Short Put\":\n",
    "        return max(0, ((strike_prices[0]*contract_size) - row['cost_contract'])) * leg_size if strike_prices[0]-price_range>=0 else 0\n",
    "    elif strategy == \"Bear Put Spread\":\n",
    "        return max(0, (strike_prices[0] - price_range)) * leg_size * contract_size\n",
    "    elif strategy == \"Long Call\":\n",
    "        return max(0, (price_range - strike_prices[0])) * leg_size * contract_size\n",
    "    elif strategy == \"Long Put\":\n",
    "        return max(0, ((strike_prices[0]*contract_size) - row['cost_contract'])) * leg_size if strike_prices[0]-price_range>=0 else 0\n",
    "    elif strategy == \"Short Call\":\n",
    "        return max(0, (price_range - strike_prices[0])) * contract_size * leg_size\n",
    "    elif strategy == \"Bull Call Spread\":\n",
    "        return max(0, (price_range - strike_prices[0])) * contract_size * leg_size\n",
    "    elif strategy == \"Short Iron Condor\":\n",
    "        return max(0, (strike_prices[0] - price_range)) * contract_size * leg_size\n",
    "    elif strategy == \"Short Iron Butterfly\":\n",
    "        return max(0, (strike_prices[0] - price_range)) * contract_size * leg_size\n",
    "    elif strategy == \"Bear Call Spread\":\n",
    "        return max(0, (price_range - strike_prices[0])) * contract_size * leg_size\n",
    "    elif strategy == \"Bull Put Spread\":\n",
    "        return max(0, (strike_prices[0] - price_range)) * contract_size * leg_size\n",
    "    elif strategy == \"Short Straddle\":\n",
    "        return max(0, (strike_prices[0] - price_range)) * contract_size * leg_size\n",
    "    elif strategy == \"Short Strangle\":\n",
    "        return max(0, (strike_prices[0] - price_range)) * contract_size * leg_size\n",
    "    elif strategy == \"Put Broken Wing Butterfly\":\n",
    "        return max(0, (strike_prices[0] - price_range)) * contract_size * leg_size\n",
    "    elif strategy == \"Custom Naked Put\":\n",
    "        return max(0, (strike_prices[0] - price_range)) * contract_size * leg_size\n",
    "    elif strategy == \"Put Diagonal Spread\":\n",
    "        return max(0, (strike_prices[0] - price_range)) * contract_size * leg_size\n",
    "    elif strategy == \"Call Diagonal Spread\":\n",
    "        return max(0, (price_range - strike_prices[0])) * contract_size * leg_size\n",
    "    elif strategy == \"Call Calendar Spread\":\n",
    "        return max(0, (price_range - strike_prices[0])) * contract_size * leg_size\n",
    "    elif strategy == \"Put Calendar Spread\":\n",
    "        return max(0, (strike_prices[0] - price_range)) * contract_size * leg_size\n",
    "    elif strategy == \"Custom Naked Call\":\n",
    "        return max(0, (price_range - strike_prices[0])) * contract_size * leg_size\n",
    "    elif strategy == \"Call Broken Wing Butterfly\":\n",
    "        return max(0, (price_range - strike_prices[0])) * contract_size * leg_size\n",
    "    elif strategy == \"Call Backspread\":\n",
    "        return max(0, (price_range - strike_prices[0])) * contract_size * leg_size\n",
    "    elif strategy == \"Put Backspread\":\n",
    "        return max(0, (strike_prices[0] - price_range)) * contract_size * leg_size\n",
    "    elif strategy == \"Synthetic Long\":\n",
    "        return max(0, (price_range - strike_prices[0])) * leg_size * contract_size if strike_prices[0]-price_range<0 else 0\n",
    "    else:\n",
    "        return np.nan  \n",
    "\n",
    "pl_table['difference_leg_1'] = pl_table.apply(calculate_difference_leg1, axis=1)"
   ]
  },
  {
   "cell_type": "code",
   "execution_count": 241,
   "metadata": {},
   "outputs": [
    {
     "data": {
      "text/plain": [
       "'Put Calendar Spread'"
      ]
     },
     "execution_count": 241,
     "metadata": {},
     "output_type": "execute_result"
    }
   ],
   "source": [
    "strategy"
   ]
  },
  {
   "cell_type": "code",
   "execution_count": 242,
   "metadata": {},
   "outputs": [
    {
     "data": {
      "text/html": [
       "<div>\n",
       "<style scoped>\n",
       "    .dataframe tbody tr th:only-of-type {\n",
       "        vertical-align: middle;\n",
       "    }\n",
       "\n",
       "    .dataframe tbody tr th {\n",
       "        vertical-align: top;\n",
       "    }\n",
       "\n",
       "    .dataframe thead th {\n",
       "        text-align: right;\n",
       "    }\n",
       "</style>\n",
       "<table border=\"1\" class=\"dataframe\">\n",
       "  <thead>\n",
       "    <tr style=\"text-align: right;\">\n",
       "      <th></th>\n",
       "      <th>price_range</th>\n",
       "      <th>cost_contract</th>\n",
       "      <th>difference_leg_1</th>\n",
       "      <th>difference_leg_2</th>\n",
       "      <th>difference_leg_3</th>\n",
       "      <th>difference_leg_4</th>\n",
       "      <th>cost</th>\n",
       "      <th>profit</th>\n",
       "      <th>leg2diagonalForward</th>\n",
       "      <th>leg2diagonald1</th>\n",
       "      <th>leg2diagonald2</th>\n",
       "      <th>leg2diagonalcumulative_norm_d1</th>\n",
       "      <th>leg2diagonalcumulative_norm_d2</th>\n",
       "      <th>leg2diagonalcall_option</th>\n",
       "      <th>leg2diagonalput_option</th>\n",
       "      <th>leg2diagonaloption_sell</th>\n",
       "    </tr>\n",
       "  </thead>\n",
       "  <tbody>\n",
       "    <tr>\n",
       "      <th>0</th>\n",
       "      <td>8.438972</td>\n",
       "      <td>843.897247</td>\n",
       "      <td>556.102753</td>\n",
       "      <td>NaN</td>\n",
       "      <td>NaN</td>\n",
       "      <td>NaN</td>\n",
       "      <td>NaN</td>\n",
       "      <td>NaN</td>\n",
       "      <td>NaN</td>\n",
       "      <td>NaN</td>\n",
       "      <td>NaN</td>\n",
       "      <td>NaN</td>\n",
       "      <td>NaN</td>\n",
       "      <td>NaN</td>\n",
       "      <td>NaN</td>\n",
       "      <td>NaN</td>\n",
       "    </tr>\n",
       "    <tr>\n",
       "      <th>1</th>\n",
       "      <td>8.638972</td>\n",
       "      <td>863.897247</td>\n",
       "      <td>536.102753</td>\n",
       "      <td>NaN</td>\n",
       "      <td>NaN</td>\n",
       "      <td>NaN</td>\n",
       "      <td>NaN</td>\n",
       "      <td>NaN</td>\n",
       "      <td>NaN</td>\n",
       "      <td>NaN</td>\n",
       "      <td>NaN</td>\n",
       "      <td>NaN</td>\n",
       "      <td>NaN</td>\n",
       "      <td>NaN</td>\n",
       "      <td>NaN</td>\n",
       "      <td>NaN</td>\n",
       "    </tr>\n",
       "    <tr>\n",
       "      <th>2</th>\n",
       "      <td>8.838972</td>\n",
       "      <td>883.897247</td>\n",
       "      <td>516.102753</td>\n",
       "      <td>NaN</td>\n",
       "      <td>NaN</td>\n",
       "      <td>NaN</td>\n",
       "      <td>NaN</td>\n",
       "      <td>NaN</td>\n",
       "      <td>NaN</td>\n",
       "      <td>NaN</td>\n",
       "      <td>NaN</td>\n",
       "      <td>NaN</td>\n",
       "      <td>NaN</td>\n",
       "      <td>NaN</td>\n",
       "      <td>NaN</td>\n",
       "      <td>NaN</td>\n",
       "    </tr>\n",
       "    <tr>\n",
       "      <th>3</th>\n",
       "      <td>9.038972</td>\n",
       "      <td>903.897247</td>\n",
       "      <td>496.102753</td>\n",
       "      <td>NaN</td>\n",
       "      <td>NaN</td>\n",
       "      <td>NaN</td>\n",
       "      <td>NaN</td>\n",
       "      <td>NaN</td>\n",
       "      <td>NaN</td>\n",
       "      <td>NaN</td>\n",
       "      <td>NaN</td>\n",
       "      <td>NaN</td>\n",
       "      <td>NaN</td>\n",
       "      <td>NaN</td>\n",
       "      <td>NaN</td>\n",
       "      <td>NaN</td>\n",
       "    </tr>\n",
       "    <tr>\n",
       "      <th>4</th>\n",
       "      <td>9.238972</td>\n",
       "      <td>923.897247</td>\n",
       "      <td>476.102753</td>\n",
       "      <td>NaN</td>\n",
       "      <td>NaN</td>\n",
       "      <td>NaN</td>\n",
       "      <td>NaN</td>\n",
       "      <td>NaN</td>\n",
       "      <td>NaN</td>\n",
       "      <td>NaN</td>\n",
       "      <td>NaN</td>\n",
       "      <td>NaN</td>\n",
       "      <td>NaN</td>\n",
       "      <td>NaN</td>\n",
       "      <td>NaN</td>\n",
       "      <td>NaN</td>\n",
       "    </tr>\n",
       "    <tr>\n",
       "      <th>...</th>\n",
       "      <td>...</td>\n",
       "      <td>...</td>\n",
       "      <td>...</td>\n",
       "      <td>...</td>\n",
       "      <td>...</td>\n",
       "      <td>...</td>\n",
       "      <td>...</td>\n",
       "      <td>...</td>\n",
       "      <td>...</td>\n",
       "      <td>...</td>\n",
       "      <td>...</td>\n",
       "      <td>...</td>\n",
       "      <td>...</td>\n",
       "      <td>...</td>\n",
       "      <td>...</td>\n",
       "      <td>...</td>\n",
       "    </tr>\n",
       "    <tr>\n",
       "      <th>57</th>\n",
       "      <td>19.838972</td>\n",
       "      <td>1983.897247</td>\n",
       "      <td>0.000000</td>\n",
       "      <td>NaN</td>\n",
       "      <td>NaN</td>\n",
       "      <td>NaN</td>\n",
       "      <td>NaN</td>\n",
       "      <td>NaN</td>\n",
       "      <td>NaN</td>\n",
       "      <td>NaN</td>\n",
       "      <td>NaN</td>\n",
       "      <td>NaN</td>\n",
       "      <td>NaN</td>\n",
       "      <td>NaN</td>\n",
       "      <td>NaN</td>\n",
       "      <td>NaN</td>\n",
       "    </tr>\n",
       "    <tr>\n",
       "      <th>58</th>\n",
       "      <td>20.038972</td>\n",
       "      <td>2003.897247</td>\n",
       "      <td>0.000000</td>\n",
       "      <td>NaN</td>\n",
       "      <td>NaN</td>\n",
       "      <td>NaN</td>\n",
       "      <td>NaN</td>\n",
       "      <td>NaN</td>\n",
       "      <td>NaN</td>\n",
       "      <td>NaN</td>\n",
       "      <td>NaN</td>\n",
       "      <td>NaN</td>\n",
       "      <td>NaN</td>\n",
       "      <td>NaN</td>\n",
       "      <td>NaN</td>\n",
       "      <td>NaN</td>\n",
       "    </tr>\n",
       "    <tr>\n",
       "      <th>59</th>\n",
       "      <td>20.238972</td>\n",
       "      <td>2023.897247</td>\n",
       "      <td>0.000000</td>\n",
       "      <td>NaN</td>\n",
       "      <td>NaN</td>\n",
       "      <td>NaN</td>\n",
       "      <td>NaN</td>\n",
       "      <td>NaN</td>\n",
       "      <td>NaN</td>\n",
       "      <td>NaN</td>\n",
       "      <td>NaN</td>\n",
       "      <td>NaN</td>\n",
       "      <td>NaN</td>\n",
       "      <td>NaN</td>\n",
       "      <td>NaN</td>\n",
       "      <td>NaN</td>\n",
       "    </tr>\n",
       "    <tr>\n",
       "      <th>60</th>\n",
       "      <td>20.438972</td>\n",
       "      <td>2043.897247</td>\n",
       "      <td>0.000000</td>\n",
       "      <td>NaN</td>\n",
       "      <td>NaN</td>\n",
       "      <td>NaN</td>\n",
       "      <td>NaN</td>\n",
       "      <td>NaN</td>\n",
       "      <td>NaN</td>\n",
       "      <td>NaN</td>\n",
       "      <td>NaN</td>\n",
       "      <td>NaN</td>\n",
       "      <td>NaN</td>\n",
       "      <td>NaN</td>\n",
       "      <td>NaN</td>\n",
       "      <td>NaN</td>\n",
       "    </tr>\n",
       "    <tr>\n",
       "      <th>61</th>\n",
       "      <td>20.638972</td>\n",
       "      <td>2063.897247</td>\n",
       "      <td>0.000000</td>\n",
       "      <td>NaN</td>\n",
       "      <td>NaN</td>\n",
       "      <td>NaN</td>\n",
       "      <td>NaN</td>\n",
       "      <td>NaN</td>\n",
       "      <td>NaN</td>\n",
       "      <td>NaN</td>\n",
       "      <td>NaN</td>\n",
       "      <td>NaN</td>\n",
       "      <td>NaN</td>\n",
       "      <td>NaN</td>\n",
       "      <td>NaN</td>\n",
       "      <td>NaN</td>\n",
       "    </tr>\n",
       "  </tbody>\n",
       "</table>\n",
       "<p>62 rows × 16 columns</p>\n",
       "</div>"
      ],
      "text/plain": [
       "    price_range  cost_contract  difference_leg_1  difference_leg_2  \\\n",
       "0      8.438972     843.897247        556.102753               NaN   \n",
       "1      8.638972     863.897247        536.102753               NaN   \n",
       "2      8.838972     883.897247        516.102753               NaN   \n",
       "3      9.038972     903.897247        496.102753               NaN   \n",
       "4      9.238972     923.897247        476.102753               NaN   \n",
       "..          ...            ...               ...               ...   \n",
       "57    19.838972    1983.897247          0.000000               NaN   \n",
       "58    20.038972    2003.897247          0.000000               NaN   \n",
       "59    20.238972    2023.897247          0.000000               NaN   \n",
       "60    20.438972    2043.897247          0.000000               NaN   \n",
       "61    20.638972    2063.897247          0.000000               NaN   \n",
       "\n",
       "    difference_leg_3  difference_leg_4  cost  profit  leg2diagonalForward  \\\n",
       "0                NaN               NaN   NaN     NaN                  NaN   \n",
       "1                NaN               NaN   NaN     NaN                  NaN   \n",
       "2                NaN               NaN   NaN     NaN                  NaN   \n",
       "3                NaN               NaN   NaN     NaN                  NaN   \n",
       "4                NaN               NaN   NaN     NaN                  NaN   \n",
       "..               ...               ...   ...     ...                  ...   \n",
       "57               NaN               NaN   NaN     NaN                  NaN   \n",
       "58               NaN               NaN   NaN     NaN                  NaN   \n",
       "59               NaN               NaN   NaN     NaN                  NaN   \n",
       "60               NaN               NaN   NaN     NaN                  NaN   \n",
       "61               NaN               NaN   NaN     NaN                  NaN   \n",
       "\n",
       "    leg2diagonald1  leg2diagonald2  leg2diagonalcumulative_norm_d1  \\\n",
       "0              NaN             NaN                             NaN   \n",
       "1              NaN             NaN                             NaN   \n",
       "2              NaN             NaN                             NaN   \n",
       "3              NaN             NaN                             NaN   \n",
       "4              NaN             NaN                             NaN   \n",
       "..             ...             ...                             ...   \n",
       "57             NaN             NaN                             NaN   \n",
       "58             NaN             NaN                             NaN   \n",
       "59             NaN             NaN                             NaN   \n",
       "60             NaN             NaN                             NaN   \n",
       "61             NaN             NaN                             NaN   \n",
       "\n",
       "    leg2diagonalcumulative_norm_d2  leg2diagonalcall_option  \\\n",
       "0                              NaN                      NaN   \n",
       "1                              NaN                      NaN   \n",
       "2                              NaN                      NaN   \n",
       "3                              NaN                      NaN   \n",
       "4                              NaN                      NaN   \n",
       "..                             ...                      ...   \n",
       "57                             NaN                      NaN   \n",
       "58                             NaN                      NaN   \n",
       "59                             NaN                      NaN   \n",
       "60                             NaN                      NaN   \n",
       "61                             NaN                      NaN   \n",
       "\n",
       "    leg2diagonalput_option  leg2diagonaloption_sell  \n",
       "0                      NaN                      NaN  \n",
       "1                      NaN                      NaN  \n",
       "2                      NaN                      NaN  \n",
       "3                      NaN                      NaN  \n",
       "4                      NaN                      NaN  \n",
       "..                     ...                      ...  \n",
       "57                     NaN                      NaN  \n",
       "58                     NaN                      NaN  \n",
       "59                     NaN                      NaN  \n",
       "60                     NaN                      NaN  \n",
       "61                     NaN                      NaN  \n",
       "\n",
       "[62 rows x 16 columns]"
      ]
     },
     "execution_count": 242,
     "metadata": {},
     "output_type": "execute_result"
    }
   ],
   "source": [
    "pl_table"
   ]
  },
  {
   "cell_type": "code",
   "execution_count": 243,
   "metadata": {},
   "outputs": [],
   "source": [
    "# calculate difference leg 2 \n",
    "\n",
    "def calculate_difference_leg2(row):\n",
    "    price_range = row['price_range']\n",
    "\n",
    "    # Check if the strategy has a third leg, if not, assign leg_size to 0\n",
    "    try:\n",
    "        leg_size = strategy_mapping[strategy][1]['size']  # try to access the second leg\n",
    "    except IndexError:\n",
    "        leg_size = 0  # default value if the third leg doesn't exist\n",
    "        \n",
    "    if strategy == \"Bear Put Spread\":\n",
    "        return max(0, ((strike_prices[1]*contract_size) - row['cost_contract'])) * leg_size if ((strike_prices[1]*contract_size) - row['cost_contract'])>0 else 0\n",
    "    elif strategy == \"Bull Call Spread\":\n",
    "        return max(0, (price_range - strike_prices[1])) * leg_size * contract_size\n",
    "    elif strategy == \"Short Iron Condor\":\n",
    "        return max(0, ((strike_prices[1]*contract_size) - row['cost_contract'])) * leg_size\n",
    "    elif strategy == \"Short Iron Butterfly\":\n",
    "        return max(0, ((strike_prices[1]*contract_size) - row['cost_contract'])) * leg_size\n",
    "    elif strategy == \"Bear Call Spread\":\n",
    "        return max(0, (row['cost_contract'] - (strike_prices[1]*contract_size))) * leg_size\n",
    "    elif strategy == \"Bull Put Spread\":\n",
    "        return max(0, ((strike_prices[1]*contract_size) - row['cost_contract'])) * leg_size\n",
    "    elif strategy == \"Short Straddle\":\n",
    "        return max(0, (price_range - strike_prices[1])) * contract_size * leg_size\n",
    "    elif strategy == \"Short Strangle\":\n",
    "        return max(0, (price_range - strike_prices[1])) * contract_size * leg_size\n",
    "    elif strategy == \"Put Broken Wing Butterfly\":\n",
    "        return max(0, (strike_prices[1] - price_range)) * contract_size * leg_size\n",
    "    elif strategy == \"Custom Naked Put\":\n",
    "        return max(0, (price_range - strike_prices[1])) * contract_size * leg_size\n",
    "    elif strategy == \"Put Diagonal Spread\":\n",
    "        return max(0, (strike_prices[1] - price_range)) * contract_size * leg_size\n",
    "    elif strategy == \"Custom Naked Call\":\n",
    "        return max(0, (strike_prices[1]-price_range)) * contract_size * leg_size\n",
    "    elif strategy == \"Call Broken Wing Butterfly\":\n",
    "        return max(0, (price_range - strike_prices[1])) * contract_size * leg_size\n",
    "    elif strategy == \"Call Backspread\":\n",
    "        return max(0, (price_range - strike_prices[1])) * contract_size * leg_size\n",
    "    elif strategy == \"Put Backspread\":\n",
    "        return max(0, (strike_prices[1] - price_range)) * contract_size * leg_size\n",
    "    elif strategy == \"Synthetic Long\":\n",
    "        return max(0, ((strike_prices[1]*contract_size) - row['cost_contract'])) * leg_size if strike_prices[1] - price_range>0 else 0\n",
    "    else:\n",
    "        return np.nan  \n",
    "\n",
    "pl_table['difference_leg_2'] = pl_table.apply(calculate_difference_leg2, axis=1)\n"
   ]
  },
  {
   "cell_type": "code",
   "execution_count": 244,
   "metadata": {},
   "outputs": [
    {
     "data": {
      "text/html": [
       "<div>\n",
       "<style scoped>\n",
       "    .dataframe tbody tr th:only-of-type {\n",
       "        vertical-align: middle;\n",
       "    }\n",
       "\n",
       "    .dataframe tbody tr th {\n",
       "        vertical-align: top;\n",
       "    }\n",
       "\n",
       "    .dataframe thead th {\n",
       "        text-align: right;\n",
       "    }\n",
       "</style>\n",
       "<table border=\"1\" class=\"dataframe\">\n",
       "  <thead>\n",
       "    <tr style=\"text-align: right;\">\n",
       "      <th></th>\n",
       "      <th>price_range</th>\n",
       "      <th>cost_contract</th>\n",
       "      <th>difference_leg_1</th>\n",
       "      <th>difference_leg_2</th>\n",
       "      <th>difference_leg_3</th>\n",
       "      <th>difference_leg_4</th>\n",
       "      <th>cost</th>\n",
       "      <th>profit</th>\n",
       "      <th>leg2diagonalForward</th>\n",
       "      <th>leg2diagonald1</th>\n",
       "      <th>leg2diagonald2</th>\n",
       "      <th>leg2diagonalcumulative_norm_d1</th>\n",
       "      <th>leg2diagonalcumulative_norm_d2</th>\n",
       "      <th>leg2diagonalcall_option</th>\n",
       "      <th>leg2diagonalput_option</th>\n",
       "      <th>leg2diagonaloption_sell</th>\n",
       "    </tr>\n",
       "  </thead>\n",
       "  <tbody>\n",
       "    <tr>\n",
       "      <th>0</th>\n",
       "      <td>8.438972</td>\n",
       "      <td>843.897247</td>\n",
       "      <td>556.102753</td>\n",
       "      <td>NaN</td>\n",
       "      <td>NaN</td>\n",
       "      <td>NaN</td>\n",
       "      <td>NaN</td>\n",
       "      <td>NaN</td>\n",
       "      <td>NaN</td>\n",
       "      <td>NaN</td>\n",
       "      <td>NaN</td>\n",
       "      <td>NaN</td>\n",
       "      <td>NaN</td>\n",
       "      <td>NaN</td>\n",
       "      <td>NaN</td>\n",
       "      <td>NaN</td>\n",
       "    </tr>\n",
       "    <tr>\n",
       "      <th>1</th>\n",
       "      <td>8.638972</td>\n",
       "      <td>863.897247</td>\n",
       "      <td>536.102753</td>\n",
       "      <td>NaN</td>\n",
       "      <td>NaN</td>\n",
       "      <td>NaN</td>\n",
       "      <td>NaN</td>\n",
       "      <td>NaN</td>\n",
       "      <td>NaN</td>\n",
       "      <td>NaN</td>\n",
       "      <td>NaN</td>\n",
       "      <td>NaN</td>\n",
       "      <td>NaN</td>\n",
       "      <td>NaN</td>\n",
       "      <td>NaN</td>\n",
       "      <td>NaN</td>\n",
       "    </tr>\n",
       "    <tr>\n",
       "      <th>2</th>\n",
       "      <td>8.838972</td>\n",
       "      <td>883.897247</td>\n",
       "      <td>516.102753</td>\n",
       "      <td>NaN</td>\n",
       "      <td>NaN</td>\n",
       "      <td>NaN</td>\n",
       "      <td>NaN</td>\n",
       "      <td>NaN</td>\n",
       "      <td>NaN</td>\n",
       "      <td>NaN</td>\n",
       "      <td>NaN</td>\n",
       "      <td>NaN</td>\n",
       "      <td>NaN</td>\n",
       "      <td>NaN</td>\n",
       "      <td>NaN</td>\n",
       "      <td>NaN</td>\n",
       "    </tr>\n",
       "    <tr>\n",
       "      <th>3</th>\n",
       "      <td>9.038972</td>\n",
       "      <td>903.897247</td>\n",
       "      <td>496.102753</td>\n",
       "      <td>NaN</td>\n",
       "      <td>NaN</td>\n",
       "      <td>NaN</td>\n",
       "      <td>NaN</td>\n",
       "      <td>NaN</td>\n",
       "      <td>NaN</td>\n",
       "      <td>NaN</td>\n",
       "      <td>NaN</td>\n",
       "      <td>NaN</td>\n",
       "      <td>NaN</td>\n",
       "      <td>NaN</td>\n",
       "      <td>NaN</td>\n",
       "      <td>NaN</td>\n",
       "    </tr>\n",
       "    <tr>\n",
       "      <th>4</th>\n",
       "      <td>9.238972</td>\n",
       "      <td>923.897247</td>\n",
       "      <td>476.102753</td>\n",
       "      <td>NaN</td>\n",
       "      <td>NaN</td>\n",
       "      <td>NaN</td>\n",
       "      <td>NaN</td>\n",
       "      <td>NaN</td>\n",
       "      <td>NaN</td>\n",
       "      <td>NaN</td>\n",
       "      <td>NaN</td>\n",
       "      <td>NaN</td>\n",
       "      <td>NaN</td>\n",
       "      <td>NaN</td>\n",
       "      <td>NaN</td>\n",
       "      <td>NaN</td>\n",
       "    </tr>\n",
       "    <tr>\n",
       "      <th>...</th>\n",
       "      <td>...</td>\n",
       "      <td>...</td>\n",
       "      <td>...</td>\n",
       "      <td>...</td>\n",
       "      <td>...</td>\n",
       "      <td>...</td>\n",
       "      <td>...</td>\n",
       "      <td>...</td>\n",
       "      <td>...</td>\n",
       "      <td>...</td>\n",
       "      <td>...</td>\n",
       "      <td>...</td>\n",
       "      <td>...</td>\n",
       "      <td>...</td>\n",
       "      <td>...</td>\n",
       "      <td>...</td>\n",
       "    </tr>\n",
       "    <tr>\n",
       "      <th>57</th>\n",
       "      <td>19.838972</td>\n",
       "      <td>1983.897247</td>\n",
       "      <td>0.000000</td>\n",
       "      <td>NaN</td>\n",
       "      <td>NaN</td>\n",
       "      <td>NaN</td>\n",
       "      <td>NaN</td>\n",
       "      <td>NaN</td>\n",
       "      <td>NaN</td>\n",
       "      <td>NaN</td>\n",
       "      <td>NaN</td>\n",
       "      <td>NaN</td>\n",
       "      <td>NaN</td>\n",
       "      <td>NaN</td>\n",
       "      <td>NaN</td>\n",
       "      <td>NaN</td>\n",
       "    </tr>\n",
       "    <tr>\n",
       "      <th>58</th>\n",
       "      <td>20.038972</td>\n",
       "      <td>2003.897247</td>\n",
       "      <td>0.000000</td>\n",
       "      <td>NaN</td>\n",
       "      <td>NaN</td>\n",
       "      <td>NaN</td>\n",
       "      <td>NaN</td>\n",
       "      <td>NaN</td>\n",
       "      <td>NaN</td>\n",
       "      <td>NaN</td>\n",
       "      <td>NaN</td>\n",
       "      <td>NaN</td>\n",
       "      <td>NaN</td>\n",
       "      <td>NaN</td>\n",
       "      <td>NaN</td>\n",
       "      <td>NaN</td>\n",
       "    </tr>\n",
       "    <tr>\n",
       "      <th>59</th>\n",
       "      <td>20.238972</td>\n",
       "      <td>2023.897247</td>\n",
       "      <td>0.000000</td>\n",
       "      <td>NaN</td>\n",
       "      <td>NaN</td>\n",
       "      <td>NaN</td>\n",
       "      <td>NaN</td>\n",
       "      <td>NaN</td>\n",
       "      <td>NaN</td>\n",
       "      <td>NaN</td>\n",
       "      <td>NaN</td>\n",
       "      <td>NaN</td>\n",
       "      <td>NaN</td>\n",
       "      <td>NaN</td>\n",
       "      <td>NaN</td>\n",
       "      <td>NaN</td>\n",
       "    </tr>\n",
       "    <tr>\n",
       "      <th>60</th>\n",
       "      <td>20.438972</td>\n",
       "      <td>2043.897247</td>\n",
       "      <td>0.000000</td>\n",
       "      <td>NaN</td>\n",
       "      <td>NaN</td>\n",
       "      <td>NaN</td>\n",
       "      <td>NaN</td>\n",
       "      <td>NaN</td>\n",
       "      <td>NaN</td>\n",
       "      <td>NaN</td>\n",
       "      <td>NaN</td>\n",
       "      <td>NaN</td>\n",
       "      <td>NaN</td>\n",
       "      <td>NaN</td>\n",
       "      <td>NaN</td>\n",
       "      <td>NaN</td>\n",
       "    </tr>\n",
       "    <tr>\n",
       "      <th>61</th>\n",
       "      <td>20.638972</td>\n",
       "      <td>2063.897247</td>\n",
       "      <td>0.000000</td>\n",
       "      <td>NaN</td>\n",
       "      <td>NaN</td>\n",
       "      <td>NaN</td>\n",
       "      <td>NaN</td>\n",
       "      <td>NaN</td>\n",
       "      <td>NaN</td>\n",
       "      <td>NaN</td>\n",
       "      <td>NaN</td>\n",
       "      <td>NaN</td>\n",
       "      <td>NaN</td>\n",
       "      <td>NaN</td>\n",
       "      <td>NaN</td>\n",
       "      <td>NaN</td>\n",
       "    </tr>\n",
       "  </tbody>\n",
       "</table>\n",
       "<p>62 rows × 16 columns</p>\n",
       "</div>"
      ],
      "text/plain": [
       "    price_range  cost_contract  difference_leg_1  difference_leg_2  \\\n",
       "0      8.438972     843.897247        556.102753               NaN   \n",
       "1      8.638972     863.897247        536.102753               NaN   \n",
       "2      8.838972     883.897247        516.102753               NaN   \n",
       "3      9.038972     903.897247        496.102753               NaN   \n",
       "4      9.238972     923.897247        476.102753               NaN   \n",
       "..          ...            ...               ...               ...   \n",
       "57    19.838972    1983.897247          0.000000               NaN   \n",
       "58    20.038972    2003.897247          0.000000               NaN   \n",
       "59    20.238972    2023.897247          0.000000               NaN   \n",
       "60    20.438972    2043.897247          0.000000               NaN   \n",
       "61    20.638972    2063.897247          0.000000               NaN   \n",
       "\n",
       "    difference_leg_3  difference_leg_4  cost  profit  leg2diagonalForward  \\\n",
       "0                NaN               NaN   NaN     NaN                  NaN   \n",
       "1                NaN               NaN   NaN     NaN                  NaN   \n",
       "2                NaN               NaN   NaN     NaN                  NaN   \n",
       "3                NaN               NaN   NaN     NaN                  NaN   \n",
       "4                NaN               NaN   NaN     NaN                  NaN   \n",
       "..               ...               ...   ...     ...                  ...   \n",
       "57               NaN               NaN   NaN     NaN                  NaN   \n",
       "58               NaN               NaN   NaN     NaN                  NaN   \n",
       "59               NaN               NaN   NaN     NaN                  NaN   \n",
       "60               NaN               NaN   NaN     NaN                  NaN   \n",
       "61               NaN               NaN   NaN     NaN                  NaN   \n",
       "\n",
       "    leg2diagonald1  leg2diagonald2  leg2diagonalcumulative_norm_d1  \\\n",
       "0              NaN             NaN                             NaN   \n",
       "1              NaN             NaN                             NaN   \n",
       "2              NaN             NaN                             NaN   \n",
       "3              NaN             NaN                             NaN   \n",
       "4              NaN             NaN                             NaN   \n",
       "..             ...             ...                             ...   \n",
       "57             NaN             NaN                             NaN   \n",
       "58             NaN             NaN                             NaN   \n",
       "59             NaN             NaN                             NaN   \n",
       "60             NaN             NaN                             NaN   \n",
       "61             NaN             NaN                             NaN   \n",
       "\n",
       "    leg2diagonalcumulative_norm_d2  leg2diagonalcall_option  \\\n",
       "0                              NaN                      NaN   \n",
       "1                              NaN                      NaN   \n",
       "2                              NaN                      NaN   \n",
       "3                              NaN                      NaN   \n",
       "4                              NaN                      NaN   \n",
       "..                             ...                      ...   \n",
       "57                             NaN                      NaN   \n",
       "58                             NaN                      NaN   \n",
       "59                             NaN                      NaN   \n",
       "60                             NaN                      NaN   \n",
       "61                             NaN                      NaN   \n",
       "\n",
       "    leg2diagonalput_option  leg2diagonaloption_sell  \n",
       "0                      NaN                      NaN  \n",
       "1                      NaN                      NaN  \n",
       "2                      NaN                      NaN  \n",
       "3                      NaN                      NaN  \n",
       "4                      NaN                      NaN  \n",
       "..                     ...                      ...  \n",
       "57                     NaN                      NaN  \n",
       "58                     NaN                      NaN  \n",
       "59                     NaN                      NaN  \n",
       "60                     NaN                      NaN  \n",
       "61                     NaN                      NaN  \n",
       "\n",
       "[62 rows x 16 columns]"
      ]
     },
     "execution_count": 244,
     "metadata": {},
     "output_type": "execute_result"
    }
   ],
   "source": [
    "pl_table"
   ]
  },
  {
   "cell_type": "code",
   "execution_count": 245,
   "metadata": {},
   "outputs": [],
   "source": [
    "# calculate difference leg 3\n",
    "\n",
    "def calculate_difference_leg3(row):\n",
    "    price_range = row['price_range']\n",
    "    \n",
    "    # Check if the strategy has a third leg, if not, assign leg_size to 0\n",
    "    try:\n",
    "        leg_size = strategy_mapping[strategy][2]['size']  # try to access the third leg\n",
    "    except IndexError:\n",
    "        leg_size = 0  # default value if the third leg doesn't exist\n",
    "    \n",
    "    if strategy == \"Short Iron Condor\":\n",
    "        return max(0, (row['cost_contract'] - strike_prices[2]*contract_size)) * leg_size\n",
    "    elif strategy == \"Short Iron Butterfly\":\n",
    "        return max(0, (row['cost_contract'] - strike_prices[2]*100)) * leg_size\n",
    "    elif strategy == \"Put Broken Wing Butterfly\":\n",
    "        return max(0, (strike_prices[2] - price_range)) * contract_size * leg_size\n",
    "    elif strategy == \"Custom Naked Put\":\n",
    "        return max(0, (price_range - strike_prices[2])) * contract_size * leg_size\n",
    "    elif strategy == \"Custom Naked Call\":\n",
    "        return max(0, (strike_prices[2] - price_range)) * contract_size * leg_size\n",
    "    elif strategy == \"Call Broken Wing Butterfly\":\n",
    "        return max(0, (price_range - strike_prices[2])) * contract_size * leg_size\n",
    "    else:\n",
    "        return np.nan\n",
    "    \n",
    "pl_table['difference_leg_3'] = pl_table.apply(calculate_difference_leg3, axis=1)\n"
   ]
  },
  {
   "cell_type": "code",
   "execution_count": 246,
   "metadata": {},
   "outputs": [],
   "source": [
    "# calculate difference leg 4\n",
    "\n",
    "def calculate_difference_leg4(row):\n",
    "    price_range = row['price_range']\n",
    "    \n",
    "    # Check if the strategy has a fourth leg, if not, assign leg_size to 0\n",
    "    try:\n",
    "        leg_size = strategy_mapping[strategy][3]['size']  # try to access the fourth leg\n",
    "    except IndexError:\n",
    "        leg_size = 0  # default value if the fourth leg doesn't exist\n",
    "    \n",
    "    if strategy == \"Short Iron Condor\":\n",
    "        return max(0, (row['cost_contract'] - strike_prices[3]*contract_size)) * leg_size\n",
    "    elif strategy == \"Short Iron Butterfly\":\n",
    "        return max(0, (row['cost_contract'] - strike_prices[3]*contract_size)) * leg_size\n",
    "    else:\n",
    "        return np.nan\n",
    "\n",
    "pl_table['difference_leg_4'] = pl_table.apply(calculate_difference_leg4, axis=1)\n"
   ]
  },
  {
   "cell_type": "code",
   "execution_count": 247,
   "metadata": {},
   "outputs": [],
   "source": [
    "# calculate cost \n",
    "\n",
    "def calculate_cost(row):\n",
    "    total_cost = 0\n",
    "    for i in range(len(option_prices)):\n",
    "        direction = strategy_mapping[strategy][i]['direction']\n",
    "        multiplier = -1 if direction == \"Long\" else 1\n",
    "        size = strategy_mapping[strategy][i]['size']\n",
    "        total_cost += multiplier * option_prices[i] * 100 * size\n",
    "    total_cost -= transaction_costs  # Subtract the transaction costs\n",
    "    return total_cost\n",
    "    \n",
    "\n",
    "pl_table['cost'] = pl_table.apply(calculate_cost, axis=1)"
   ]
  },
  {
   "cell_type": "code",
   "execution_count": 248,
   "metadata": {},
   "outputs": [],
   "source": [
    "#calculate leg2diagonalForward\n",
    "\n",
    "def calculate_leg2diagonalForward(row):\n",
    "    price_range = row['price_range']\n",
    "    fwd_spot = spread_visualisation_metrics.get('fwd_spot', 1)  # default to 1 if not present\n",
    "\n",
    "    if strategy in [\"Put Diagonal Spread\", \"Call Diagonal Spread\", \"Call Calendar Spread\", \"Put Calendar Spread\"]:\n",
    "        return price_range * fwd_spot\n",
    "    else:\n",
    "        return 0  # default return, adjust as needed\n",
    "\n",
    "if \"diagonal\" in strategy.lower() or \"calendar\" in strategy.lower():\n",
    "    pl_table['leg2diagonalForward'] = pl_table.apply(calculate_leg2diagonalForward, axis=1)\n",
    "\n",
    "\n"
   ]
  },
  {
   "cell_type": "code",
   "execution_count": 249,
   "metadata": {},
   "outputs": [],
   "source": [
    "import numpy as np\n",
    "from scipy.stats import norm\n",
    "\n",
    "# Calculate leg2diagonald1\n",
    "def calculate_leg2diagonald1(row):\n",
    "    if strategy in [\"Put Diagonal Spread\", \"Call Diagonal Spread\", \"Call Calendar Spread\", \"Put Calendar Spread\"]:\n",
    "        vol_sqrt = spread_visualisation_metrics.get('vol_sqrt', 1)\n",
    "        return np.log(row['leg2diagonalForward'] / strike_prices[1]) / vol_sqrt + vol_sqrt * 0.5\n",
    "    else:\n",
    "        return 0\n",
    "if \"diagonal\" in strategy.lower() or \"calendar\" in strategy.lower():    \n",
    "    pl_table['leg2diagonald1'] = pl_table.apply(calculate_leg2diagonald1, axis=1)\n",
    "\n",
    "\n",
    "# Calculate leg2diagonald2\n",
    "def calculate_leg2diagonald2(row):\n",
    "    return row['leg2diagonald1'] - spread_visualisation_metrics.get('vol_sqrt', 1)\n",
    "\n",
    "if \"diagonal\" in strategy.lower() or \"calendar\" in strategy.lower():\n",
    "    pl_table['leg2diagonald2'] = pl_table.apply(calculate_leg2diagonald2, axis=1)\n",
    "\n",
    "\n",
    "# Calculate leg2diagonalcumulative_norm_d1\n",
    "def calculate_leg2diagonalcumulative_norm_d1(row):\n",
    "    return norm.cdf(row['leg2diagonald1'], 0, 1)\n",
    "\n",
    "if \"diagonal\" in strategy.lower() or \"calendar\" in strategy.lower():\n",
    "    pl_table['leg2diagonalcumulative_norm_d1'] = pl_table.apply(calculate_leg2diagonalcumulative_norm_d1, axis=1)\n",
    "\n",
    "\n",
    "# Calculate leg2diagonalcumulative_norm_d2\n",
    "def calculate_leg2diagonalcumulative_norm_d2(row):\n",
    "    return norm.cdf(row['leg2diagonald2'], 0, 1)\n",
    "\n",
    "if \"diagonal\" in strategy.lower() or \"calendar\" in strategy.lower():\n",
    "    pl_table['leg2diagonalcumulative_norm_d2'] = pl_table.apply(calculate_leg2diagonalcumulative_norm_d2, axis=1)\n",
    "\n",
    "\n",
    "# Calculate leg2diagonalcall_option\n",
    "def calculate_leg2diagonalcall_option(row):\n",
    "    discount_factor = spread_visualisation_metrics.get('discount_factor', 1)\n",
    "    return row['leg2diagonalForward'] * discount_factor * row['leg2diagonalcumulative_norm_d1'] - strike_prices[1] * row['leg2diagonalcumulative_norm_d2'] * discount_factor\n",
    "\n",
    "if \"diagonal\" in strategy.lower() or \"calendar\" in strategy.lower():\n",
    "    pl_table['leg2diagonalcall_option'] = pl_table.apply(calculate_leg2diagonalcall_option, axis=1)\n",
    "\n",
    "\n",
    "# Calculate leg2diagonalput_option\n",
    "def calculate_leg2diagonalput_option(row):\n",
    "    discount_factor = spread_visualisation_metrics.get('discount_factor', 1)\n",
    "    return strike_prices[1] * discount_factor - row['leg2diagonalForward'] * discount_factor + row['leg2diagonalcall_option']\n",
    "if \"diagonal\" in strategy.lower() or \"calendar\" in strategy.lower():\n",
    "    pl_table['leg2diagonalput_option'] = pl_table.apply(calculate_leg2diagonalput_option, axis=1)"
   ]
  },
  {
   "cell_type": "code",
   "execution_count": 250,
   "metadata": {},
   "outputs": [],
   "source": [
    "# Calculate leg2diagonaloption_sell\n",
    "def calculate_leg2diagonaloption_sell(row):\n",
    "    leg_size = strategy_mapping[strategy][1]['size']  # Fetch the size of the second leg for the specific strategy\n",
    "    if strategy == \"Put Diagonal Spread\":\n",
    "        return row['leg2diagonalput_option'] * contract_size * leg_size\n",
    "    elif strategy in [\"Call Diagonal Spread\", \"Call Calendar Spread\"]:\n",
    "        return row['leg2diagonalcall_option'] * contract_size * leg_size\n",
    "    elif strategy == \"Put Calendar Spread\":\n",
    "        return row['leg2diagonalput_option'] * contract_size * leg_size\n",
    "    else:\n",
    "        return 0\n",
    "if \"diagonal\" in strategy.lower() or \"calendar\" in strategy.lower():\n",
    "    pl_table['leg2diagonaloption_sell'] = pl_table.apply(calculate_leg2diagonaloption_sell, axis=1)\n"
   ]
  },
  {
   "cell_type": "code",
   "execution_count": 251,
   "metadata": {},
   "outputs": [],
   "source": [
    "# calculate profit \n",
    "\n",
    "def calculate_profit(row):\n",
    "\n",
    "    difference_leg_1 = row['difference_leg_1']\n",
    "    difference_leg_2 = row['difference_leg_2']\n",
    "    difference_leg_3 = row.get('difference_leg_3', 0)\n",
    "    difference_leg_4 = row.get('difference_leg_4', 0)\n",
    "    cost = row['cost']\n",
    "    leg2diagonaloption_sell = row.get('leg2diagonaloption_sell', 0)\n",
    "\n",
    "    if strategy == \"Bear Put Spread\":\n",
    "        return difference_leg_1 - difference_leg_2 + cost\n",
    "    elif strategy == \"Long Call\":\n",
    "        return difference_leg_1 + cost\n",
    "    elif strategy == \"Long Put\":\n",
    "        return difference_leg_1 + cost\n",
    "    elif strategy == \"Short Call\":\n",
    "        return cost - difference_leg_1\n",
    "    elif strategy == \"Short Put\":\n",
    "        return cost - difference_leg_1\n",
    "    elif strategy == \"Bull Call Spread\":\n",
    "        return difference_leg_1 - difference_leg_2 + cost\n",
    "    elif strategy == \"Short Iron Condor\":\n",
    "        return difference_leg_1 - difference_leg_2 - difference_leg_3 + difference_leg_4 + cost\n",
    "    elif strategy == \"Short Iron Butterfly\":\n",
    "        return difference_leg_1 - difference_leg_2 - difference_leg_3 + difference_leg_4 + cost\n",
    "    elif strategy == \"Bear Call Spread\":\n",
    "        return difference_leg_2 - difference_leg_1 + cost\n",
    "    elif strategy == \"Bull Put Spread\":\n",
    "        return difference_leg_1 - difference_leg_2 + cost\n",
    "    elif strategy == \"Short Straddle\":\n",
    "        return cost - difference_leg_1 - difference_leg_2\n",
    "    elif strategy == \"Short Strangle\":\n",
    "        return cost - difference_leg_1 - difference_leg_2\n",
    "    elif strategy == \"Put Broken Wing Butterfly\":\n",
    "        return cost + difference_leg_1 - difference_leg_2 + difference_leg_3\n",
    "    elif strategy == \"Custom Naked Put\":\n",
    "        return cost - difference_leg_1 - difference_leg_2 + difference_leg_3\n",
    "    elif strategy == \"Put Diagonal Spread\":\n",
    "        return -difference_leg_1 + leg2diagonaloption_sell + cost\n",
    "    elif strategy == \"Call Diagonal Spread\":\n",
    "        return -difference_leg_1 + leg2diagonaloption_sell + cost\n",
    "    elif strategy == \"Call Calendar Spread\":\n",
    "        return -difference_leg_1 + leg2diagonaloption_sell + cost\n",
    "    elif strategy == \"Put Calendar Spread\":\n",
    "        return -difference_leg_1 + leg2diagonaloption_sell + cost\n",
    "    elif strategy == \"Custom Naked Call\":\n",
    "        return -difference_leg_1 - difference_leg_2 + difference_leg_3 + cost\n",
    "    elif strategy == \"Call Broken Wing Butterfly\":\n",
    "        return difference_leg_1 - difference_leg_2 + difference_leg_3 + cost\n",
    "    elif strategy == \"Call Backspread\":\n",
    "        return -difference_leg_1 + difference_leg_2 + cost\n",
    "    elif strategy == \"Put Backspread\":\n",
    "        return -difference_leg_1 + difference_leg_2 + cost\n",
    "    elif strategy == \"Synthetic Long\":\n",
    "        return difference_leg_1 - difference_leg_2\n",
    "    else:\n",
    "        return np.nan\n",
    "\n",
    "pl_table['profit'] = pl_table.apply(calculate_profit, axis=1)\n"
   ]
  },
  {
   "cell_type": "code",
   "execution_count": 252,
   "metadata": {},
   "outputs": [
    {
     "data": {
      "text/html": [
       "<div>\n",
       "<style scoped>\n",
       "    .dataframe tbody tr th:only-of-type {\n",
       "        vertical-align: middle;\n",
       "    }\n",
       "\n",
       "    .dataframe tbody tr th {\n",
       "        vertical-align: top;\n",
       "    }\n",
       "\n",
       "    .dataframe thead th {\n",
       "        text-align: right;\n",
       "    }\n",
       "</style>\n",
       "<table border=\"1\" class=\"dataframe\">\n",
       "  <thead>\n",
       "    <tr style=\"text-align: right;\">\n",
       "      <th></th>\n",
       "      <th>price_range</th>\n",
       "      <th>cost_contract</th>\n",
       "      <th>difference_leg_1</th>\n",
       "      <th>difference_leg_2</th>\n",
       "      <th>difference_leg_3</th>\n",
       "      <th>difference_leg_4</th>\n",
       "      <th>cost</th>\n",
       "      <th>profit</th>\n",
       "      <th>leg2diagonalForward</th>\n",
       "      <th>leg2diagonald1</th>\n",
       "      <th>leg2diagonald2</th>\n",
       "      <th>leg2diagonalcumulative_norm_d1</th>\n",
       "      <th>leg2diagonalcumulative_norm_d2</th>\n",
       "      <th>leg2diagonalcall_option</th>\n",
       "      <th>leg2diagonalput_option</th>\n",
       "      <th>leg2diagonaloption_sell</th>\n",
       "    </tr>\n",
       "  </thead>\n",
       "  <tbody>\n",
       "    <tr>\n",
       "      <th>0</th>\n",
       "      <td>8.438972</td>\n",
       "      <td>843.897247</td>\n",
       "      <td>556.102753</td>\n",
       "      <td>NaN</td>\n",
       "      <td>NaN</td>\n",
       "      <td>NaN</td>\n",
       "      <td>-34.733386</td>\n",
       "      <td>-34.690919</td>\n",
       "      <td>8.417369</td>\n",
       "      <td>-4.358092</td>\n",
       "      <td>-4.473308</td>\n",
       "      <td>0.000007</td>\n",
       "      <td>0.000004</td>\n",
       "      <td>0.000001</td>\n",
       "      <td>5.561452</td>\n",
       "      <td>556.145220</td>\n",
       "    </tr>\n",
       "    <tr>\n",
       "      <th>1</th>\n",
       "      <td>8.638972</td>\n",
       "      <td>863.897247</td>\n",
       "      <td>536.102753</td>\n",
       "      <td>NaN</td>\n",
       "      <td>NaN</td>\n",
       "      <td>NaN</td>\n",
       "      <td>-34.733386</td>\n",
       "      <td>-34.563819</td>\n",
       "      <td>8.616856</td>\n",
       "      <td>-4.154795</td>\n",
       "      <td>-4.270011</td>\n",
       "      <td>0.000016</td>\n",
       "      <td>0.000010</td>\n",
       "      <td>0.000003</td>\n",
       "      <td>5.362723</td>\n",
       "      <td>536.272320</td>\n",
       "    </tr>\n",
       "    <tr>\n",
       "      <th>2</th>\n",
       "      <td>8.838972</td>\n",
       "      <td>883.897247</td>\n",
       "      <td>516.102753</td>\n",
       "      <td>NaN</td>\n",
       "      <td>NaN</td>\n",
       "      <td>NaN</td>\n",
       "      <td>-34.733386</td>\n",
       "      <td>-34.436420</td>\n",
       "      <td>8.816344</td>\n",
       "      <td>-3.956151</td>\n",
       "      <td>-4.071368</td>\n",
       "      <td>0.000038</td>\n",
       "      <td>0.000023</td>\n",
       "      <td>0.000009</td>\n",
       "      <td>5.163997</td>\n",
       "      <td>516.399719</td>\n",
       "    </tr>\n",
       "    <tr>\n",
       "      <th>3</th>\n",
       "      <td>9.038972</td>\n",
       "      <td>903.897247</td>\n",
       "      <td>496.102753</td>\n",
       "      <td>NaN</td>\n",
       "      <td>NaN</td>\n",
       "      <td>NaN</td>\n",
       "      <td>-34.733386</td>\n",
       "      <td>-34.308373</td>\n",
       "      <td>9.015832</td>\n",
       "      <td>-3.761952</td>\n",
       "      <td>-3.877168</td>\n",
       "      <td>0.000084</td>\n",
       "      <td>0.000053</td>\n",
       "      <td>0.000020</td>\n",
       "      <td>4.965278</td>\n",
       "      <td>496.527766</td>\n",
       "    </tr>\n",
       "    <tr>\n",
       "      <th>4</th>\n",
       "      <td>9.238972</td>\n",
       "      <td>923.897247</td>\n",
       "      <td>476.102753</td>\n",
       "      <td>NaN</td>\n",
       "      <td>NaN</td>\n",
       "      <td>NaN</td>\n",
       "      <td>-34.733386</td>\n",
       "      <td>-34.178991</td>\n",
       "      <td>9.215320</td>\n",
       "      <td>-3.572004</td>\n",
       "      <td>-3.687220</td>\n",
       "      <td>0.000177</td>\n",
       "      <td>0.000113</td>\n",
       "      <td>0.000045</td>\n",
       "      <td>4.766571</td>\n",
       "      <td>476.657148</td>\n",
       "    </tr>\n",
       "    <tr>\n",
       "      <th>...</th>\n",
       "      <td>...</td>\n",
       "      <td>...</td>\n",
       "      <td>...</td>\n",
       "      <td>...</td>\n",
       "      <td>...</td>\n",
       "      <td>...</td>\n",
       "      <td>...</td>\n",
       "      <td>...</td>\n",
       "      <td>...</td>\n",
       "      <td>...</td>\n",
       "      <td>...</td>\n",
       "      <td>...</td>\n",
       "      <td>...</td>\n",
       "      <td>...</td>\n",
       "      <td>...</td>\n",
       "      <td>...</td>\n",
       "    </tr>\n",
       "    <tr>\n",
       "      <th>57</th>\n",
       "      <td>19.838972</td>\n",
       "      <td>1983.897247</td>\n",
       "      <td>0.000000</td>\n",
       "      <td>NaN</td>\n",
       "      <td>NaN</td>\n",
       "      <td>NaN</td>\n",
       "      <td>-34.733386</td>\n",
       "      <td>-34.661326</td>\n",
       "      <td>19.788184</td>\n",
       "      <td>3.060899</td>\n",
       "      <td>2.945683</td>\n",
       "      <td>0.998897</td>\n",
       "      <td>0.998389</td>\n",
       "      <td>5.766944</td>\n",
       "      <td>0.000721</td>\n",
       "      <td>0.072060</td>\n",
       "    </tr>\n",
       "    <tr>\n",
       "      <th>58</th>\n",
       "      <td>20.038972</td>\n",
       "      <td>2003.897247</td>\n",
       "      <td>0.000000</td>\n",
       "      <td>NaN</td>\n",
       "      <td>NaN</td>\n",
       "      <td>NaN</td>\n",
       "      <td>-34.733386</td>\n",
       "      <td>-34.680328</td>\n",
       "      <td>19.987672</td>\n",
       "      <td>3.147959</td>\n",
       "      <td>3.032742</td>\n",
       "      <td>0.999178</td>\n",
       "      <td>0.998788</td>\n",
       "      <td>5.965485</td>\n",
       "      <td>0.000531</td>\n",
       "      <td>0.053058</td>\n",
       "    </tr>\n",
       "    <tr>\n",
       "      <th>59</th>\n",
       "      <td>20.238972</td>\n",
       "      <td>2023.897247</td>\n",
       "      <td>0.000000</td>\n",
       "      <td>NaN</td>\n",
       "      <td>NaN</td>\n",
       "      <td>NaN</td>\n",
       "      <td>-34.733386</td>\n",
       "      <td>-34.694458</td>\n",
       "      <td>20.187160</td>\n",
       "      <td>3.234154</td>\n",
       "      <td>3.118938</td>\n",
       "      <td>0.999390</td>\n",
       "      <td>0.999092</td>\n",
       "      <td>6.164075</td>\n",
       "      <td>0.000389</td>\n",
       "      <td>0.038928</td>\n",
       "    </tr>\n",
       "    <tr>\n",
       "      <th>60</th>\n",
       "      <td>20.438972</td>\n",
       "      <td>2043.897247</td>\n",
       "      <td>0.000000</td>\n",
       "      <td>NaN</td>\n",
       "      <td>NaN</td>\n",
       "      <td>NaN</td>\n",
       "      <td>-34.733386</td>\n",
       "      <td>-34.704924</td>\n",
       "      <td>20.386648</td>\n",
       "      <td>3.319501</td>\n",
       "      <td>3.204285</td>\n",
       "      <td>0.999549</td>\n",
       "      <td>0.999323</td>\n",
       "      <td>6.362702</td>\n",
       "      <td>0.000285</td>\n",
       "      <td>0.028462</td>\n",
       "    </tr>\n",
       "    <tr>\n",
       "      <th>61</th>\n",
       "      <td>20.638972</td>\n",
       "      <td>2063.897247</td>\n",
       "      <td>0.000000</td>\n",
       "      <td>NaN</td>\n",
       "      <td>NaN</td>\n",
       "      <td>NaN</td>\n",
       "      <td>-34.733386</td>\n",
       "      <td>-34.712645</td>\n",
       "      <td>20.586136</td>\n",
       "      <td>3.404018</td>\n",
       "      <td>3.288802</td>\n",
       "      <td>0.999668</td>\n",
       "      <td>0.999497</td>\n",
       "      <td>6.561356</td>\n",
       "      <td>0.000207</td>\n",
       "      <td>0.020741</td>\n",
       "    </tr>\n",
       "  </tbody>\n",
       "</table>\n",
       "<p>62 rows × 16 columns</p>\n",
       "</div>"
      ],
      "text/plain": [
       "    price_range  cost_contract  difference_leg_1  difference_leg_2  \\\n",
       "0      8.438972     843.897247        556.102753               NaN   \n",
       "1      8.638972     863.897247        536.102753               NaN   \n",
       "2      8.838972     883.897247        516.102753               NaN   \n",
       "3      9.038972     903.897247        496.102753               NaN   \n",
       "4      9.238972     923.897247        476.102753               NaN   \n",
       "..          ...            ...               ...               ...   \n",
       "57    19.838972    1983.897247          0.000000               NaN   \n",
       "58    20.038972    2003.897247          0.000000               NaN   \n",
       "59    20.238972    2023.897247          0.000000               NaN   \n",
       "60    20.438972    2043.897247          0.000000               NaN   \n",
       "61    20.638972    2063.897247          0.000000               NaN   \n",
       "\n",
       "    difference_leg_3  difference_leg_4       cost     profit  \\\n",
       "0                NaN               NaN -34.733386 -34.690919   \n",
       "1                NaN               NaN -34.733386 -34.563819   \n",
       "2                NaN               NaN -34.733386 -34.436420   \n",
       "3                NaN               NaN -34.733386 -34.308373   \n",
       "4                NaN               NaN -34.733386 -34.178991   \n",
       "..               ...               ...        ...        ...   \n",
       "57               NaN               NaN -34.733386 -34.661326   \n",
       "58               NaN               NaN -34.733386 -34.680328   \n",
       "59               NaN               NaN -34.733386 -34.694458   \n",
       "60               NaN               NaN -34.733386 -34.704924   \n",
       "61               NaN               NaN -34.733386 -34.712645   \n",
       "\n",
       "    leg2diagonalForward  leg2diagonald1  leg2diagonald2  \\\n",
       "0              8.417369       -4.358092       -4.473308   \n",
       "1              8.616856       -4.154795       -4.270011   \n",
       "2              8.816344       -3.956151       -4.071368   \n",
       "3              9.015832       -3.761952       -3.877168   \n",
       "4              9.215320       -3.572004       -3.687220   \n",
       "..                  ...             ...             ...   \n",
       "57            19.788184        3.060899        2.945683   \n",
       "58            19.987672        3.147959        3.032742   \n",
       "59            20.187160        3.234154        3.118938   \n",
       "60            20.386648        3.319501        3.204285   \n",
       "61            20.586136        3.404018        3.288802   \n",
       "\n",
       "    leg2diagonalcumulative_norm_d1  leg2diagonalcumulative_norm_d2  \\\n",
       "0                         0.000007                        0.000004   \n",
       "1                         0.000016                        0.000010   \n",
       "2                         0.000038                        0.000023   \n",
       "3                         0.000084                        0.000053   \n",
       "4                         0.000177                        0.000113   \n",
       "..                             ...                             ...   \n",
       "57                        0.998897                        0.998389   \n",
       "58                        0.999178                        0.998788   \n",
       "59                        0.999390                        0.999092   \n",
       "60                        0.999549                        0.999323   \n",
       "61                        0.999668                        0.999497   \n",
       "\n",
       "    leg2diagonalcall_option  leg2diagonalput_option  leg2diagonaloption_sell  \n",
       "0                  0.000001                5.561452               556.145220  \n",
       "1                  0.000003                5.362723               536.272320  \n",
       "2                  0.000009                5.163997               516.399719  \n",
       "3                  0.000020                4.965278               496.527766  \n",
       "4                  0.000045                4.766571               476.657148  \n",
       "..                      ...                     ...                      ...  \n",
       "57                 5.766944                0.000721                 0.072060  \n",
       "58                 5.965485                0.000531                 0.053058  \n",
       "59                 6.164075                0.000389                 0.038928  \n",
       "60                 6.362702                0.000285                 0.028462  \n",
       "61                 6.561356                0.000207                 0.020741  \n",
       "\n",
       "[62 rows x 16 columns]"
      ]
     },
     "execution_count": 252,
     "metadata": {},
     "output_type": "execute_result"
    }
   ],
   "source": [
    "pl_table"
   ]
  },
  {
   "attachments": {},
   "cell_type": "markdown",
   "metadata": {},
   "source": [
    "# Create P/L chart"
   ]
  },
  {
   "cell_type": "code",
   "execution_count": 253,
   "metadata": {},
   "outputs": [
    {
     "data": {
      "application/vnd.plotly.v1+json": {
       "config": {
        "plotlyServerURL": "https://plot.ly"
       },
       "data": [
        {
         "mode": "lines",
         "type": "scatter",
         "x": [
          8.438972469466696,
          8.638972469466696,
          8.838972469466695,
          9.038972469466694,
          9.238972469466693,
          9.438972469466693,
          9.638972469466692,
          9.838972469466691,
          10.03897246946669,
          10.23897246946669,
          10.43897246946669,
          10.638972469466689,
          10.838972469466688,
          11.038972469466687,
          11.238972469466686,
          11.438972469466686,
          11.638972469466685,
          11.838972469466684,
          12.038972469466684,
          12.238972469466683,
          12.438972469466682,
          12.638972469466681,
          12.83897246946668,
          13.03897246946668,
          13.23897246946668,
          13.438972469466679,
          13.638972469466678,
          13.838972469466677,
          14.038972469466676,
          14.238972469466676,
          14.438972469466675,
          14.638972469466674,
          14.838972469466674,
          15.038972469466673,
          15.238972469466672,
          15.438972469466671,
          15.63897246946667,
          15.83897246946667,
          16.03897246946667,
          16.238972469466667,
          16.43897246946667,
          16.638972469466665,
          16.83897246946667,
          17.038972469466664,
          17.238972469466667,
          17.438972469466663,
          17.638972469466665,
          17.83897246946666,
          18.038972469466664,
          18.23897246946666,
          18.438972469466663,
          18.63897246946666,
          18.83897246946666,
          19.038972469466657,
          19.23897246946666,
          19.438972469466655,
          19.63897246946666,
          19.838972469466654,
          20.038972469466657,
          20.238972469466653,
          20.438972469466655,
          20.63897246946665
         ],
         "y": [
          -34.69091926346606,
          -34.56381914356267,
          -34.43642034883099,
          -34.30837283014465,
          -34.17899137206739,
          -34.047004985781754,
          -33.910173444406595,
          -33.76473494460343,
          -33.60465726542553,
          -33.420683437642126,
          -33.19919218167665,
          -32.92093098233174,
          -32.55972060827274,
          -32.08126688309686,
          -31.44224038729594,
          -30.58979022352098,
          -29.461639445546425,
          -27.98686675237245,
          -26.08741567012727,
          -23.68029679701759,
          -20.680371452408437,
          -17.00353749628796,
          -12.570089899484813,
          -7.308006370819143,
          -1.1559143331551667,
          5.934472150807302,
          13.996603818295732,
          23.048128396599033,
          29.193479035957893,
          20.213457460200317,
          12.18300977507257,
          5.061996723493486,
          -1.1999049998271758,
          -6.66085312537669,
          -11.384443957865479,
          -15.437405029170051,
          -18.88748343196786,
          -21.801606190619275,
          -24.244358330819274,
          -26.276796366577685,
          -27.95559149001027,
          -29.332478741255322,
          -30.4539760426522,
          -31.361329837456978,
          -32.090641441918436,
          -32.67312916561133,
          -33.13548479019472,
          -33.50028818736847,
          -33.78644989356802,
          -34.009657693676424,
          -34.18280922119658,
          -34.31641794061983,
          -34.41898446042552,
          -34.49732886395244,
          -34.55688265348923,
          -34.60194104834821,
          -34.63587786012391,
          -34.661326101593396,
          -34.68032798414386,
          -34.69445812878364,
          -34.7049237509273,
          -34.71264535719067
         ]
        }
       ],
       "layout": {
        "autosize": false,
        "height": 500,
        "margin": {
         "b": 100,
         "l": 50,
         "pad": 4,
         "r": 50,
         "t": 100
        },
        "template": {
         "data": {
          "bar": [
           {
            "error_x": {
             "color": "#2a3f5f"
            },
            "error_y": {
             "color": "#2a3f5f"
            },
            "marker": {
             "line": {
              "color": "#E5ECF6",
              "width": 0.5
             },
             "pattern": {
              "fillmode": "overlay",
              "size": 10,
              "solidity": 0.2
             }
            },
            "type": "bar"
           }
          ],
          "barpolar": [
           {
            "marker": {
             "line": {
              "color": "#E5ECF6",
              "width": 0.5
             },
             "pattern": {
              "fillmode": "overlay",
              "size": 10,
              "solidity": 0.2
             }
            },
            "type": "barpolar"
           }
          ],
          "carpet": [
           {
            "aaxis": {
             "endlinecolor": "#2a3f5f",
             "gridcolor": "white",
             "linecolor": "white",
             "minorgridcolor": "white",
             "startlinecolor": "#2a3f5f"
            },
            "baxis": {
             "endlinecolor": "#2a3f5f",
             "gridcolor": "white",
             "linecolor": "white",
             "minorgridcolor": "white",
             "startlinecolor": "#2a3f5f"
            },
            "type": "carpet"
           }
          ],
          "choropleth": [
           {
            "colorbar": {
             "outlinewidth": 0,
             "ticks": ""
            },
            "type": "choropleth"
           }
          ],
          "contour": [
           {
            "colorbar": {
             "outlinewidth": 0,
             "ticks": ""
            },
            "colorscale": [
             [
              0,
              "#0d0887"
             ],
             [
              0.1111111111111111,
              "#46039f"
             ],
             [
              0.2222222222222222,
              "#7201a8"
             ],
             [
              0.3333333333333333,
              "#9c179e"
             ],
             [
              0.4444444444444444,
              "#bd3786"
             ],
             [
              0.5555555555555556,
              "#d8576b"
             ],
             [
              0.6666666666666666,
              "#ed7953"
             ],
             [
              0.7777777777777778,
              "#fb9f3a"
             ],
             [
              0.8888888888888888,
              "#fdca26"
             ],
             [
              1,
              "#f0f921"
             ]
            ],
            "type": "contour"
           }
          ],
          "contourcarpet": [
           {
            "colorbar": {
             "outlinewidth": 0,
             "ticks": ""
            },
            "type": "contourcarpet"
           }
          ],
          "heatmap": [
           {
            "colorbar": {
             "outlinewidth": 0,
             "ticks": ""
            },
            "colorscale": [
             [
              0,
              "#0d0887"
             ],
             [
              0.1111111111111111,
              "#46039f"
             ],
             [
              0.2222222222222222,
              "#7201a8"
             ],
             [
              0.3333333333333333,
              "#9c179e"
             ],
             [
              0.4444444444444444,
              "#bd3786"
             ],
             [
              0.5555555555555556,
              "#d8576b"
             ],
             [
              0.6666666666666666,
              "#ed7953"
             ],
             [
              0.7777777777777778,
              "#fb9f3a"
             ],
             [
              0.8888888888888888,
              "#fdca26"
             ],
             [
              1,
              "#f0f921"
             ]
            ],
            "type": "heatmap"
           }
          ],
          "heatmapgl": [
           {
            "colorbar": {
             "outlinewidth": 0,
             "ticks": ""
            },
            "colorscale": [
             [
              0,
              "#0d0887"
             ],
             [
              0.1111111111111111,
              "#46039f"
             ],
             [
              0.2222222222222222,
              "#7201a8"
             ],
             [
              0.3333333333333333,
              "#9c179e"
             ],
             [
              0.4444444444444444,
              "#bd3786"
             ],
             [
              0.5555555555555556,
              "#d8576b"
             ],
             [
              0.6666666666666666,
              "#ed7953"
             ],
             [
              0.7777777777777778,
              "#fb9f3a"
             ],
             [
              0.8888888888888888,
              "#fdca26"
             ],
             [
              1,
              "#f0f921"
             ]
            ],
            "type": "heatmapgl"
           }
          ],
          "histogram": [
           {
            "marker": {
             "pattern": {
              "fillmode": "overlay",
              "size": 10,
              "solidity": 0.2
             }
            },
            "type": "histogram"
           }
          ],
          "histogram2d": [
           {
            "colorbar": {
             "outlinewidth": 0,
             "ticks": ""
            },
            "colorscale": [
             [
              0,
              "#0d0887"
             ],
             [
              0.1111111111111111,
              "#46039f"
             ],
             [
              0.2222222222222222,
              "#7201a8"
             ],
             [
              0.3333333333333333,
              "#9c179e"
             ],
             [
              0.4444444444444444,
              "#bd3786"
             ],
             [
              0.5555555555555556,
              "#d8576b"
             ],
             [
              0.6666666666666666,
              "#ed7953"
             ],
             [
              0.7777777777777778,
              "#fb9f3a"
             ],
             [
              0.8888888888888888,
              "#fdca26"
             ],
             [
              1,
              "#f0f921"
             ]
            ],
            "type": "histogram2d"
           }
          ],
          "histogram2dcontour": [
           {
            "colorbar": {
             "outlinewidth": 0,
             "ticks": ""
            },
            "colorscale": [
             [
              0,
              "#0d0887"
             ],
             [
              0.1111111111111111,
              "#46039f"
             ],
             [
              0.2222222222222222,
              "#7201a8"
             ],
             [
              0.3333333333333333,
              "#9c179e"
             ],
             [
              0.4444444444444444,
              "#bd3786"
             ],
             [
              0.5555555555555556,
              "#d8576b"
             ],
             [
              0.6666666666666666,
              "#ed7953"
             ],
             [
              0.7777777777777778,
              "#fb9f3a"
             ],
             [
              0.8888888888888888,
              "#fdca26"
             ],
             [
              1,
              "#f0f921"
             ]
            ],
            "type": "histogram2dcontour"
           }
          ],
          "mesh3d": [
           {
            "colorbar": {
             "outlinewidth": 0,
             "ticks": ""
            },
            "type": "mesh3d"
           }
          ],
          "parcoords": [
           {
            "line": {
             "colorbar": {
              "outlinewidth": 0,
              "ticks": ""
             }
            },
            "type": "parcoords"
           }
          ],
          "pie": [
           {
            "automargin": true,
            "type": "pie"
           }
          ],
          "scatter": [
           {
            "marker": {
             "colorbar": {
              "outlinewidth": 0,
              "ticks": ""
             }
            },
            "type": "scatter"
           }
          ],
          "scatter3d": [
           {
            "line": {
             "colorbar": {
              "outlinewidth": 0,
              "ticks": ""
             }
            },
            "marker": {
             "colorbar": {
              "outlinewidth": 0,
              "ticks": ""
             }
            },
            "type": "scatter3d"
           }
          ],
          "scattercarpet": [
           {
            "marker": {
             "colorbar": {
              "outlinewidth": 0,
              "ticks": ""
             }
            },
            "type": "scattercarpet"
           }
          ],
          "scattergeo": [
           {
            "marker": {
             "colorbar": {
              "outlinewidth": 0,
              "ticks": ""
             }
            },
            "type": "scattergeo"
           }
          ],
          "scattergl": [
           {
            "marker": {
             "colorbar": {
              "outlinewidth": 0,
              "ticks": ""
             }
            },
            "type": "scattergl"
           }
          ],
          "scattermapbox": [
           {
            "marker": {
             "colorbar": {
              "outlinewidth": 0,
              "ticks": ""
             }
            },
            "type": "scattermapbox"
           }
          ],
          "scatterpolar": [
           {
            "marker": {
             "colorbar": {
              "outlinewidth": 0,
              "ticks": ""
             }
            },
            "type": "scatterpolar"
           }
          ],
          "scatterpolargl": [
           {
            "marker": {
             "colorbar": {
              "outlinewidth": 0,
              "ticks": ""
             }
            },
            "type": "scatterpolargl"
           }
          ],
          "scatterternary": [
           {
            "marker": {
             "colorbar": {
              "outlinewidth": 0,
              "ticks": ""
             }
            },
            "type": "scatterternary"
           }
          ],
          "surface": [
           {
            "colorbar": {
             "outlinewidth": 0,
             "ticks": ""
            },
            "colorscale": [
             [
              0,
              "#0d0887"
             ],
             [
              0.1111111111111111,
              "#46039f"
             ],
             [
              0.2222222222222222,
              "#7201a8"
             ],
             [
              0.3333333333333333,
              "#9c179e"
             ],
             [
              0.4444444444444444,
              "#bd3786"
             ],
             [
              0.5555555555555556,
              "#d8576b"
             ],
             [
              0.6666666666666666,
              "#ed7953"
             ],
             [
              0.7777777777777778,
              "#fb9f3a"
             ],
             [
              0.8888888888888888,
              "#fdca26"
             ],
             [
              1,
              "#f0f921"
             ]
            ],
            "type": "surface"
           }
          ],
          "table": [
           {
            "cells": {
             "fill": {
              "color": "#EBF0F8"
             },
             "line": {
              "color": "white"
             }
            },
            "header": {
             "fill": {
              "color": "#C8D4E3"
             },
             "line": {
              "color": "white"
             }
            },
            "type": "table"
           }
          ]
         },
         "layout": {
          "annotationdefaults": {
           "arrowcolor": "#2a3f5f",
           "arrowhead": 0,
           "arrowwidth": 1
          },
          "autotypenumbers": "strict",
          "coloraxis": {
           "colorbar": {
            "outlinewidth": 0,
            "ticks": ""
           }
          },
          "colorscale": {
           "diverging": [
            [
             0,
             "#8e0152"
            ],
            [
             0.1,
             "#c51b7d"
            ],
            [
             0.2,
             "#de77ae"
            ],
            [
             0.3,
             "#f1b6da"
            ],
            [
             0.4,
             "#fde0ef"
            ],
            [
             0.5,
             "#f7f7f7"
            ],
            [
             0.6,
             "#e6f5d0"
            ],
            [
             0.7,
             "#b8e186"
            ],
            [
             0.8,
             "#7fbc41"
            ],
            [
             0.9,
             "#4d9221"
            ],
            [
             1,
             "#276419"
            ]
           ],
           "sequential": [
            [
             0,
             "#0d0887"
            ],
            [
             0.1111111111111111,
             "#46039f"
            ],
            [
             0.2222222222222222,
             "#7201a8"
            ],
            [
             0.3333333333333333,
             "#9c179e"
            ],
            [
             0.4444444444444444,
             "#bd3786"
            ],
            [
             0.5555555555555556,
             "#d8576b"
            ],
            [
             0.6666666666666666,
             "#ed7953"
            ],
            [
             0.7777777777777778,
             "#fb9f3a"
            ],
            [
             0.8888888888888888,
             "#fdca26"
            ],
            [
             1,
             "#f0f921"
            ]
           ],
           "sequentialminus": [
            [
             0,
             "#0d0887"
            ],
            [
             0.1111111111111111,
             "#46039f"
            ],
            [
             0.2222222222222222,
             "#7201a8"
            ],
            [
             0.3333333333333333,
             "#9c179e"
            ],
            [
             0.4444444444444444,
             "#bd3786"
            ],
            [
             0.5555555555555556,
             "#d8576b"
            ],
            [
             0.6666666666666666,
             "#ed7953"
            ],
            [
             0.7777777777777778,
             "#fb9f3a"
            ],
            [
             0.8888888888888888,
             "#fdca26"
            ],
            [
             1,
             "#f0f921"
            ]
           ]
          },
          "colorway": [
           "#636efa",
           "#EF553B",
           "#00cc96",
           "#ab63fa",
           "#FFA15A",
           "#19d3f3",
           "#FF6692",
           "#B6E880",
           "#FF97FF",
           "#FECB52"
          ],
          "font": {
           "color": "#2a3f5f"
          },
          "geo": {
           "bgcolor": "white",
           "lakecolor": "white",
           "landcolor": "#E5ECF6",
           "showlakes": true,
           "showland": true,
           "subunitcolor": "white"
          },
          "hoverlabel": {
           "align": "left"
          },
          "hovermode": "closest",
          "mapbox": {
           "style": "light"
          },
          "paper_bgcolor": "white",
          "plot_bgcolor": "#E5ECF6",
          "polar": {
           "angularaxis": {
            "gridcolor": "white",
            "linecolor": "white",
            "ticks": ""
           },
           "bgcolor": "#E5ECF6",
           "radialaxis": {
            "gridcolor": "white",
            "linecolor": "white",
            "ticks": ""
           }
          },
          "scene": {
           "xaxis": {
            "backgroundcolor": "#E5ECF6",
            "gridcolor": "white",
            "gridwidth": 2,
            "linecolor": "white",
            "showbackground": true,
            "ticks": "",
            "zerolinecolor": "white"
           },
           "yaxis": {
            "backgroundcolor": "#E5ECF6",
            "gridcolor": "white",
            "gridwidth": 2,
            "linecolor": "white",
            "showbackground": true,
            "ticks": "",
            "zerolinecolor": "white"
           },
           "zaxis": {
            "backgroundcolor": "#E5ECF6",
            "gridcolor": "white",
            "gridwidth": 2,
            "linecolor": "white",
            "showbackground": true,
            "ticks": "",
            "zerolinecolor": "white"
           }
          },
          "shapedefaults": {
           "line": {
            "color": "#2a3f5f"
           }
          },
          "ternary": {
           "aaxis": {
            "gridcolor": "white",
            "linecolor": "white",
            "ticks": ""
           },
           "baxis": {
            "gridcolor": "white",
            "linecolor": "white",
            "ticks": ""
           },
           "bgcolor": "#E5ECF6",
           "caxis": {
            "gridcolor": "white",
            "linecolor": "white",
            "ticks": ""
           }
          },
          "title": {
           "x": 0.05
          },
          "xaxis": {
           "automargin": true,
           "gridcolor": "white",
           "linecolor": "white",
           "ticks": "",
           "title": {
            "standoff": 15
           },
           "zerolinecolor": "white",
           "zerolinewidth": 2
          },
          "yaxis": {
           "automargin": true,
           "gridcolor": "white",
           "linecolor": "white",
           "ticks": "",
           "title": {
            "standoff": 15
           },
           "zerolinecolor": "white",
           "zerolinewidth": 2
          }
         }
        },
        "title": {
         "text": "P/L Chart for F Put Calendar Spread"
        },
        "width": 500,
        "xaxis": {
         "title": {
          "text": "Price Range"
         }
        },
        "yaxis": {
         "title": {
          "text": "Profit"
         }
        }
       }
      }
     },
     "metadata": {},
     "output_type": "display_data"
    }
   ],
   "source": [
    "import plotly.graph_objects as go\n",
    "import plotly.io as pio\n",
    "\n",
    "#create a file name\n",
    "\n",
    "yesterday = dt.date.today() - dt.timedelta(days=1)\n",
    "filename = '{}{}{}.html'.format(tickerSymbol, strategy, yesterday)\n",
    "\n",
    "# Create a line plot\n",
    "fig = go.Figure(data=go.Scatter(x=pl_table['price_range'], y=pl_table['profit'], mode='lines'))\n",
    "\n",
    "# Set title and labels\n",
    "fig.update_layout(title=f\"P/L Chart for {tickerSymbol} {strategy}\",\n",
    "                  xaxis_title=\"Price Range\",\n",
    "                  yaxis_title=\"Profit\",\n",
    "                  autosize=False,\n",
    "                  width=500,\n",
    "                  height=500,\n",
    "                  margin=dict(\n",
    "                      l=50,\n",
    "                      r=50,\n",
    "                      b=100,\n",
    "                      t=100,\n",
    "                      pad=4\n",
    "                  ))\n",
    "\n",
    "# Save the plot as an interactive HTML file\n",
    "pio.write_html(fig, filename)\n",
    "\n",
    "# Show plot\n",
    "fig.show()\n"
   ]
  },
  {
   "cell_type": "code",
   "execution_count": 254,
   "metadata": {},
   "outputs": [
    {
     "data": {
      "application/vnd.plotly.v1+json": {
       "config": {
        "plotlyServerURL": "https://plot.ly"
       },
       "data": [
        {
         "mode": "lines",
         "showlegend": false,
         "type": "scatter",
         "x": [
          8.438972469466696,
          8.638972469466696,
          8.838972469466695,
          9.038972469466694,
          9.238972469466693,
          9.438972469466693,
          9.638972469466692,
          9.838972469466691,
          10.03897246946669,
          10.23897246946669,
          10.43897246946669,
          10.638972469466689,
          10.838972469466688,
          11.038972469466687,
          11.238972469466686,
          11.438972469466686,
          11.638972469466685,
          11.838972469466684,
          12.038972469466684,
          12.238972469466683,
          12.438972469466682,
          12.638972469466681,
          12.83897246946668,
          13.03897246946668,
          13.23897246946668,
          13.438972469466679,
          13.638972469466678,
          13.838972469466677,
          14.038972469466676,
          14.238972469466676,
          14.438972469466675,
          14.638972469466674,
          14.838972469466674,
          15.038972469466673,
          15.238972469466672,
          15.438972469466671,
          15.63897246946667,
          15.83897246946667,
          16.03897246946667,
          16.238972469466667,
          16.43897246946667,
          16.638972469466665,
          16.83897246946667,
          17.038972469466664,
          17.238972469466667,
          17.438972469466663,
          17.638972469466665,
          17.83897246946666,
          18.038972469466664,
          18.23897246946666,
          18.438972469466663,
          18.63897246946666,
          18.83897246946666,
          19.038972469466657,
          19.23897246946666,
          19.438972469466655,
          19.63897246946666,
          19.838972469466654,
          20.038972469466657,
          20.238972469466653,
          20.438972469466655,
          20.63897246946665
         ],
         "y": [
          -34.69091926346606,
          -34.56381914356267,
          -34.43642034883099,
          -34.30837283014465,
          -34.17899137206739,
          -34.047004985781754,
          -33.910173444406595,
          -33.76473494460343,
          -33.60465726542553,
          -33.420683437642126,
          -33.19919218167665,
          -32.92093098233174,
          -32.55972060827274,
          -32.08126688309686,
          -31.44224038729594,
          -30.58979022352098,
          -29.461639445546425,
          -27.98686675237245,
          -26.08741567012727,
          -23.68029679701759,
          -20.680371452408437,
          -17.00353749628796,
          -12.570089899484813,
          -7.308006370819143,
          -1.1559143331551667,
          5.934472150807302,
          13.996603818295732,
          23.048128396599033,
          29.193479035957893,
          20.213457460200317,
          12.18300977507257,
          5.061996723493486,
          -1.1999049998271758,
          -6.66085312537669,
          -11.384443957865479,
          -15.437405029170051,
          -18.88748343196786,
          -21.801606190619275,
          -24.244358330819274,
          -26.276796366577685,
          -27.95559149001027,
          -29.332478741255322,
          -30.4539760426522,
          -31.361329837456978,
          -32.090641441918436,
          -32.67312916561133,
          -33.13548479019472,
          -33.50028818736847,
          -33.78644989356802,
          -34.009657693676424,
          -34.18280922119658,
          -34.31641794061983,
          -34.41898446042552,
          -34.49732886395244,
          -34.55688265348923,
          -34.60194104834821,
          -34.63587786012391,
          -34.661326101593396,
          -34.68032798414386,
          -34.69445812878364,
          -34.7049237509273,
          -34.71264535719067
         ]
        },
        {
         "line": {
          "color": "black"
         },
         "mode": "lines",
         "showlegend": false,
         "type": "scatter",
         "x": [
          8.438972469466696,
          8.638972469466696,
          8.838972469466695,
          9.038972469466694,
          9.238972469466693,
          9.438972469466693,
          9.638972469466692,
          9.838972469466691,
          10.03897246946669,
          10.23897246946669,
          10.43897246946669,
          10.638972469466689,
          10.838972469466688,
          11.038972469466687,
          11.238972469466686,
          11.438972469466686,
          11.638972469466685,
          11.838972469466684,
          12.038972469466684,
          12.238972469466683,
          12.438972469466682,
          12.638972469466681,
          12.83897246946668,
          13.03897246946668,
          13.23897246946668,
          13.438972469466679,
          13.638972469466678,
          13.838972469466677,
          14.038972469466676,
          14.238972469466676,
          14.438972469466675,
          14.638972469466674,
          14.838972469466674,
          15.038972469466673,
          15.238972469466672,
          15.438972469466671,
          15.63897246946667,
          15.83897246946667,
          16.03897246946667,
          16.238972469466667,
          16.43897246946667,
          16.638972469466665,
          16.83897246946667,
          17.038972469466664,
          17.238972469466667,
          17.438972469466663,
          17.638972469466665,
          17.83897246946666,
          18.038972469466664,
          18.23897246946666,
          18.438972469466663,
          18.63897246946666,
          18.83897246946666,
          19.038972469466657,
          19.23897246946666,
          19.438972469466655,
          19.63897246946666,
          19.838972469466654,
          20.038972469466657,
          20.238972469466653,
          20.438972469466655,
          20.63897246946665
         ],
         "y": [
          0,
          0,
          0,
          0,
          0,
          0,
          0,
          0,
          0,
          0,
          0,
          0,
          0,
          0,
          0,
          0,
          0,
          0,
          0,
          0,
          0,
          0,
          0,
          0,
          0,
          0,
          0,
          0,
          0,
          0,
          0,
          0,
          0,
          0,
          0,
          0,
          0,
          0,
          0,
          0,
          0,
          0,
          0,
          0,
          0,
          0,
          0,
          0,
          0,
          0,
          0,
          0,
          0,
          0,
          0,
          0,
          0,
          0,
          0,
          0,
          0,
          0
         ]
        },
        {
         "fill": "tozeroy",
         "fillcolor": "rgba(0,200,0,0.2)",
         "line": {
          "color": "rgba(255,255,255,0)"
         },
         "showlegend": false,
         "type": "scatter",
         "x": [
          8.438972469466696,
          8.638972469466696,
          8.838972469466695,
          9.038972469466694,
          9.238972469466693,
          9.438972469466693,
          9.638972469466692,
          9.838972469466691,
          10.03897246946669,
          10.23897246946669,
          10.43897246946669,
          10.638972469466689,
          10.838972469466688,
          11.038972469466687,
          11.238972469466686,
          11.438972469466686,
          11.638972469466685,
          11.838972469466684,
          12.038972469466684,
          12.238972469466683,
          12.438972469466682,
          12.638972469466681,
          12.83897246946668,
          13.03897246946668,
          13.23897246946668,
          13.438972469466679,
          13.638972469466678,
          13.838972469466677,
          14.038972469466676,
          14.238972469466676,
          14.438972469466675,
          14.638972469466674,
          14.838972469466674,
          15.038972469466673,
          15.238972469466672,
          15.438972469466671,
          15.63897246946667,
          15.83897246946667,
          16.03897246946667,
          16.238972469466667,
          16.43897246946667,
          16.638972469466665,
          16.83897246946667,
          17.038972469466664,
          17.238972469466667,
          17.438972469466663,
          17.638972469466665,
          17.83897246946666,
          18.038972469466664,
          18.23897246946666,
          18.438972469466663,
          18.63897246946666,
          18.83897246946666,
          19.038972469466657,
          19.23897246946666,
          19.438972469466655,
          19.63897246946666,
          19.838972469466654,
          20.038972469466657,
          20.238972469466653,
          20.438972469466655,
          20.63897246946665
         ],
         "y": [
          0,
          0,
          0,
          0,
          0,
          0,
          0,
          0,
          0,
          0,
          0,
          0,
          0,
          0,
          0,
          0,
          0,
          0,
          0,
          0,
          0,
          0,
          0,
          0,
          0,
          5.934472150807302,
          13.996603818295732,
          23.048128396599033,
          29.193479035957893,
          20.213457460200317,
          12.18300977507257,
          5.061996723493486,
          0,
          0,
          0,
          0,
          0,
          0,
          0,
          0,
          0,
          0,
          0,
          0,
          0,
          0,
          0,
          0,
          0,
          0,
          0,
          0,
          0,
          0,
          0,
          0,
          0,
          0,
          0,
          0,
          0,
          0
         ]
        },
        {
         "fill": "tozeroy",
         "fillcolor": "rgba(200,0,0,0.2)",
         "line": {
          "color": "rgba(255,255,255,0)"
         },
         "showlegend": false,
         "type": "scatter",
         "x": [
          8.438972469466696,
          8.638972469466696,
          8.838972469466695,
          9.038972469466694,
          9.238972469466693,
          9.438972469466693,
          9.638972469466692,
          9.838972469466691,
          10.03897246946669,
          10.23897246946669,
          10.43897246946669,
          10.638972469466689,
          10.838972469466688,
          11.038972469466687,
          11.238972469466686,
          11.438972469466686,
          11.638972469466685,
          11.838972469466684,
          12.038972469466684,
          12.238972469466683,
          12.438972469466682,
          12.638972469466681,
          12.83897246946668,
          13.03897246946668,
          13.23897246946668,
          13.438972469466679,
          13.638972469466678,
          13.838972469466677,
          14.038972469466676,
          14.238972469466676,
          14.438972469466675,
          14.638972469466674,
          14.838972469466674,
          15.038972469466673,
          15.238972469466672,
          15.438972469466671,
          15.63897246946667,
          15.83897246946667,
          16.03897246946667,
          16.238972469466667,
          16.43897246946667,
          16.638972469466665,
          16.83897246946667,
          17.038972469466664,
          17.238972469466667,
          17.438972469466663,
          17.638972469466665,
          17.83897246946666,
          18.038972469466664,
          18.23897246946666,
          18.438972469466663,
          18.63897246946666,
          18.83897246946666,
          19.038972469466657,
          19.23897246946666,
          19.438972469466655,
          19.63897246946666,
          19.838972469466654,
          20.038972469466657,
          20.238972469466653,
          20.438972469466655,
          20.63897246946665
         ],
         "y": [
          -34.69091926346606,
          -34.56381914356267,
          -34.43642034883099,
          -34.30837283014465,
          -34.17899137206739,
          -34.047004985781754,
          -33.910173444406595,
          -33.76473494460343,
          -33.60465726542553,
          -33.420683437642126,
          -33.19919218167665,
          -32.92093098233174,
          -32.55972060827274,
          -32.08126688309686,
          -31.44224038729594,
          -30.58979022352098,
          -29.461639445546425,
          -27.98686675237245,
          -26.08741567012727,
          -23.68029679701759,
          -20.680371452408437,
          -17.00353749628796,
          -12.570089899484813,
          -7.308006370819143,
          -1.1559143331551667,
          0,
          0,
          0,
          0,
          0,
          0,
          0,
          -1.1999049998271758,
          -6.66085312537669,
          -11.384443957865479,
          -15.437405029170051,
          -18.88748343196786,
          -21.801606190619275,
          -24.244358330819274,
          -26.276796366577685,
          -27.95559149001027,
          -29.332478741255322,
          -30.4539760426522,
          -31.361329837456978,
          -32.090641441918436,
          -32.67312916561133,
          -33.13548479019472,
          -33.50028818736847,
          -33.78644989356802,
          -34.009657693676424,
          -34.18280922119658,
          -34.31641794061983,
          -34.41898446042552,
          -34.49732886395244,
          -34.55688265348923,
          -34.60194104834821,
          -34.63587786012391,
          -34.661326101593396,
          -34.68032798414386,
          -34.69445812878364,
          -34.7049237509273,
          -34.71264535719067
         ]
        }
       ],
       "layout": {
        "annotations": [
         {
          "font": {
           "size": 14
          },
          "showarrow": false,
          "text": "Expiry date: 2023/07/21",
          "x": 0.5,
          "xref": "paper",
          "y": 1.05,
          "yref": "paper"
         }
        ],
        "autosize": false,
        "font": {
         "color": "RebeccaPurple",
         "family": "Arial",
         "size": 18
        },
        "height": 600,
        "margin": {
         "b": 100,
         "l": 50,
         "pad": 4,
         "r": 50,
         "t": 100
        },
        "showlegend": false,
        "template": {
         "data": {
          "bar": [
           {
            "error_x": {
             "color": "#2a3f5f"
            },
            "error_y": {
             "color": "#2a3f5f"
            },
            "marker": {
             "line": {
              "color": "#E5ECF6",
              "width": 0.5
             },
             "pattern": {
              "fillmode": "overlay",
              "size": 10,
              "solidity": 0.2
             }
            },
            "type": "bar"
           }
          ],
          "barpolar": [
           {
            "marker": {
             "line": {
              "color": "#E5ECF6",
              "width": 0.5
             },
             "pattern": {
              "fillmode": "overlay",
              "size": 10,
              "solidity": 0.2
             }
            },
            "type": "barpolar"
           }
          ],
          "carpet": [
           {
            "aaxis": {
             "endlinecolor": "#2a3f5f",
             "gridcolor": "white",
             "linecolor": "white",
             "minorgridcolor": "white",
             "startlinecolor": "#2a3f5f"
            },
            "baxis": {
             "endlinecolor": "#2a3f5f",
             "gridcolor": "white",
             "linecolor": "white",
             "minorgridcolor": "white",
             "startlinecolor": "#2a3f5f"
            },
            "type": "carpet"
           }
          ],
          "choropleth": [
           {
            "colorbar": {
             "outlinewidth": 0,
             "ticks": ""
            },
            "type": "choropleth"
           }
          ],
          "contour": [
           {
            "colorbar": {
             "outlinewidth": 0,
             "ticks": ""
            },
            "colorscale": [
             [
              0,
              "#0d0887"
             ],
             [
              0.1111111111111111,
              "#46039f"
             ],
             [
              0.2222222222222222,
              "#7201a8"
             ],
             [
              0.3333333333333333,
              "#9c179e"
             ],
             [
              0.4444444444444444,
              "#bd3786"
             ],
             [
              0.5555555555555556,
              "#d8576b"
             ],
             [
              0.6666666666666666,
              "#ed7953"
             ],
             [
              0.7777777777777778,
              "#fb9f3a"
             ],
             [
              0.8888888888888888,
              "#fdca26"
             ],
             [
              1,
              "#f0f921"
             ]
            ],
            "type": "contour"
           }
          ],
          "contourcarpet": [
           {
            "colorbar": {
             "outlinewidth": 0,
             "ticks": ""
            },
            "type": "contourcarpet"
           }
          ],
          "heatmap": [
           {
            "colorbar": {
             "outlinewidth": 0,
             "ticks": ""
            },
            "colorscale": [
             [
              0,
              "#0d0887"
             ],
             [
              0.1111111111111111,
              "#46039f"
             ],
             [
              0.2222222222222222,
              "#7201a8"
             ],
             [
              0.3333333333333333,
              "#9c179e"
             ],
             [
              0.4444444444444444,
              "#bd3786"
             ],
             [
              0.5555555555555556,
              "#d8576b"
             ],
             [
              0.6666666666666666,
              "#ed7953"
             ],
             [
              0.7777777777777778,
              "#fb9f3a"
             ],
             [
              0.8888888888888888,
              "#fdca26"
             ],
             [
              1,
              "#f0f921"
             ]
            ],
            "type": "heatmap"
           }
          ],
          "heatmapgl": [
           {
            "colorbar": {
             "outlinewidth": 0,
             "ticks": ""
            },
            "colorscale": [
             [
              0,
              "#0d0887"
             ],
             [
              0.1111111111111111,
              "#46039f"
             ],
             [
              0.2222222222222222,
              "#7201a8"
             ],
             [
              0.3333333333333333,
              "#9c179e"
             ],
             [
              0.4444444444444444,
              "#bd3786"
             ],
             [
              0.5555555555555556,
              "#d8576b"
             ],
             [
              0.6666666666666666,
              "#ed7953"
             ],
             [
              0.7777777777777778,
              "#fb9f3a"
             ],
             [
              0.8888888888888888,
              "#fdca26"
             ],
             [
              1,
              "#f0f921"
             ]
            ],
            "type": "heatmapgl"
           }
          ],
          "histogram": [
           {
            "marker": {
             "pattern": {
              "fillmode": "overlay",
              "size": 10,
              "solidity": 0.2
             }
            },
            "type": "histogram"
           }
          ],
          "histogram2d": [
           {
            "colorbar": {
             "outlinewidth": 0,
             "ticks": ""
            },
            "colorscale": [
             [
              0,
              "#0d0887"
             ],
             [
              0.1111111111111111,
              "#46039f"
             ],
             [
              0.2222222222222222,
              "#7201a8"
             ],
             [
              0.3333333333333333,
              "#9c179e"
             ],
             [
              0.4444444444444444,
              "#bd3786"
             ],
             [
              0.5555555555555556,
              "#d8576b"
             ],
             [
              0.6666666666666666,
              "#ed7953"
             ],
             [
              0.7777777777777778,
              "#fb9f3a"
             ],
             [
              0.8888888888888888,
              "#fdca26"
             ],
             [
              1,
              "#f0f921"
             ]
            ],
            "type": "histogram2d"
           }
          ],
          "histogram2dcontour": [
           {
            "colorbar": {
             "outlinewidth": 0,
             "ticks": ""
            },
            "colorscale": [
             [
              0,
              "#0d0887"
             ],
             [
              0.1111111111111111,
              "#46039f"
             ],
             [
              0.2222222222222222,
              "#7201a8"
             ],
             [
              0.3333333333333333,
              "#9c179e"
             ],
             [
              0.4444444444444444,
              "#bd3786"
             ],
             [
              0.5555555555555556,
              "#d8576b"
             ],
             [
              0.6666666666666666,
              "#ed7953"
             ],
             [
              0.7777777777777778,
              "#fb9f3a"
             ],
             [
              0.8888888888888888,
              "#fdca26"
             ],
             [
              1,
              "#f0f921"
             ]
            ],
            "type": "histogram2dcontour"
           }
          ],
          "mesh3d": [
           {
            "colorbar": {
             "outlinewidth": 0,
             "ticks": ""
            },
            "type": "mesh3d"
           }
          ],
          "parcoords": [
           {
            "line": {
             "colorbar": {
              "outlinewidth": 0,
              "ticks": ""
             }
            },
            "type": "parcoords"
           }
          ],
          "pie": [
           {
            "automargin": true,
            "type": "pie"
           }
          ],
          "scatter": [
           {
            "marker": {
             "colorbar": {
              "outlinewidth": 0,
              "ticks": ""
             }
            },
            "type": "scatter"
           }
          ],
          "scatter3d": [
           {
            "line": {
             "colorbar": {
              "outlinewidth": 0,
              "ticks": ""
             }
            },
            "marker": {
             "colorbar": {
              "outlinewidth": 0,
              "ticks": ""
             }
            },
            "type": "scatter3d"
           }
          ],
          "scattercarpet": [
           {
            "marker": {
             "colorbar": {
              "outlinewidth": 0,
              "ticks": ""
             }
            },
            "type": "scattercarpet"
           }
          ],
          "scattergeo": [
           {
            "marker": {
             "colorbar": {
              "outlinewidth": 0,
              "ticks": ""
             }
            },
            "type": "scattergeo"
           }
          ],
          "scattergl": [
           {
            "marker": {
             "colorbar": {
              "outlinewidth": 0,
              "ticks": ""
             }
            },
            "type": "scattergl"
           }
          ],
          "scattermapbox": [
           {
            "marker": {
             "colorbar": {
              "outlinewidth": 0,
              "ticks": ""
             }
            },
            "type": "scattermapbox"
           }
          ],
          "scatterpolar": [
           {
            "marker": {
             "colorbar": {
              "outlinewidth": 0,
              "ticks": ""
             }
            },
            "type": "scatterpolar"
           }
          ],
          "scatterpolargl": [
           {
            "marker": {
             "colorbar": {
              "outlinewidth": 0,
              "ticks": ""
             }
            },
            "type": "scatterpolargl"
           }
          ],
          "scatterternary": [
           {
            "marker": {
             "colorbar": {
              "outlinewidth": 0,
              "ticks": ""
             }
            },
            "type": "scatterternary"
           }
          ],
          "surface": [
           {
            "colorbar": {
             "outlinewidth": 0,
             "ticks": ""
            },
            "colorscale": [
             [
              0,
              "#0d0887"
             ],
             [
              0.1111111111111111,
              "#46039f"
             ],
             [
              0.2222222222222222,
              "#7201a8"
             ],
             [
              0.3333333333333333,
              "#9c179e"
             ],
             [
              0.4444444444444444,
              "#bd3786"
             ],
             [
              0.5555555555555556,
              "#d8576b"
             ],
             [
              0.6666666666666666,
              "#ed7953"
             ],
             [
              0.7777777777777778,
              "#fb9f3a"
             ],
             [
              0.8888888888888888,
              "#fdca26"
             ],
             [
              1,
              "#f0f921"
             ]
            ],
            "type": "surface"
           }
          ],
          "table": [
           {
            "cells": {
             "fill": {
              "color": "#EBF0F8"
             },
             "line": {
              "color": "white"
             }
            },
            "header": {
             "fill": {
              "color": "#C8D4E3"
             },
             "line": {
              "color": "white"
             }
            },
            "type": "table"
           }
          ]
         },
         "layout": {
          "annotationdefaults": {
           "arrowcolor": "#2a3f5f",
           "arrowhead": 0,
           "arrowwidth": 1
          },
          "autotypenumbers": "strict",
          "coloraxis": {
           "colorbar": {
            "outlinewidth": 0,
            "ticks": ""
           }
          },
          "colorscale": {
           "diverging": [
            [
             0,
             "#8e0152"
            ],
            [
             0.1,
             "#c51b7d"
            ],
            [
             0.2,
             "#de77ae"
            ],
            [
             0.3,
             "#f1b6da"
            ],
            [
             0.4,
             "#fde0ef"
            ],
            [
             0.5,
             "#f7f7f7"
            ],
            [
             0.6,
             "#e6f5d0"
            ],
            [
             0.7,
             "#b8e186"
            ],
            [
             0.8,
             "#7fbc41"
            ],
            [
             0.9,
             "#4d9221"
            ],
            [
             1,
             "#276419"
            ]
           ],
           "sequential": [
            [
             0,
             "#0d0887"
            ],
            [
             0.1111111111111111,
             "#46039f"
            ],
            [
             0.2222222222222222,
             "#7201a8"
            ],
            [
             0.3333333333333333,
             "#9c179e"
            ],
            [
             0.4444444444444444,
             "#bd3786"
            ],
            [
             0.5555555555555556,
             "#d8576b"
            ],
            [
             0.6666666666666666,
             "#ed7953"
            ],
            [
             0.7777777777777778,
             "#fb9f3a"
            ],
            [
             0.8888888888888888,
             "#fdca26"
            ],
            [
             1,
             "#f0f921"
            ]
           ],
           "sequentialminus": [
            [
             0,
             "#0d0887"
            ],
            [
             0.1111111111111111,
             "#46039f"
            ],
            [
             0.2222222222222222,
             "#7201a8"
            ],
            [
             0.3333333333333333,
             "#9c179e"
            ],
            [
             0.4444444444444444,
             "#bd3786"
            ],
            [
             0.5555555555555556,
             "#d8576b"
            ],
            [
             0.6666666666666666,
             "#ed7953"
            ],
            [
             0.7777777777777778,
             "#fb9f3a"
            ],
            [
             0.8888888888888888,
             "#fdca26"
            ],
            [
             1,
             "#f0f921"
            ]
           ]
          },
          "colorway": [
           "#636efa",
           "#EF553B",
           "#00cc96",
           "#ab63fa",
           "#FFA15A",
           "#19d3f3",
           "#FF6692",
           "#B6E880",
           "#FF97FF",
           "#FECB52"
          ],
          "font": {
           "color": "#2a3f5f"
          },
          "geo": {
           "bgcolor": "white",
           "lakecolor": "white",
           "landcolor": "#E5ECF6",
           "showlakes": true,
           "showland": true,
           "subunitcolor": "white"
          },
          "hoverlabel": {
           "align": "left"
          },
          "hovermode": "closest",
          "mapbox": {
           "style": "light"
          },
          "paper_bgcolor": "white",
          "plot_bgcolor": "#E5ECF6",
          "polar": {
           "angularaxis": {
            "gridcolor": "white",
            "linecolor": "white",
            "ticks": ""
           },
           "bgcolor": "#E5ECF6",
           "radialaxis": {
            "gridcolor": "white",
            "linecolor": "white",
            "ticks": ""
           }
          },
          "scene": {
           "xaxis": {
            "backgroundcolor": "#E5ECF6",
            "gridcolor": "white",
            "gridwidth": 2,
            "linecolor": "white",
            "showbackground": true,
            "ticks": "",
            "zerolinecolor": "white"
           },
           "yaxis": {
            "backgroundcolor": "#E5ECF6",
            "gridcolor": "white",
            "gridwidth": 2,
            "linecolor": "white",
            "showbackground": true,
            "ticks": "",
            "zerolinecolor": "white"
           },
           "zaxis": {
            "backgroundcolor": "#E5ECF6",
            "gridcolor": "white",
            "gridwidth": 2,
            "linecolor": "white",
            "showbackground": true,
            "ticks": "",
            "zerolinecolor": "white"
           }
          },
          "shapedefaults": {
           "line": {
            "color": "#2a3f5f"
           }
          },
          "ternary": {
           "aaxis": {
            "gridcolor": "white",
            "linecolor": "white",
            "ticks": ""
           },
           "baxis": {
            "gridcolor": "white",
            "linecolor": "white",
            "ticks": ""
           },
           "bgcolor": "#E5ECF6",
           "caxis": {
            "gridcolor": "white",
            "linecolor": "white",
            "ticks": ""
           }
          },
          "title": {
           "x": 0.05
          },
          "xaxis": {
           "automargin": true,
           "gridcolor": "white",
           "linecolor": "white",
           "ticks": "",
           "title": {
            "standoff": 15
           },
           "zerolinecolor": "white",
           "zerolinewidth": 2
          },
          "yaxis": {
           "automargin": true,
           "gridcolor": "white",
           "linecolor": "white",
           "ticks": "",
           "title": {
            "standoff": 15
           },
           "zerolinecolor": "white",
           "zerolinewidth": 2
          }
         }
        },
        "title": {
         "font": {
          "size": 20
         },
         "text": "P/L Chart for F Put Calendar Spread",
         "x": 0.5,
         "xanchor": "center",
         "y": 0.9,
         "yanchor": "top"
        },
        "width": 800,
        "xaxis": {
         "title": {
          "text": "Price Range"
         }
        },
        "yaxis": {
         "title": {
          "text": "Profit"
         }
        }
       }
      }
     },
     "metadata": {},
     "output_type": "display_data"
    }
   ],
   "source": [
    "import plotly.graph_objects as go\n",
    "import plotly.io as pio\n",
    "import numpy as np\n",
    "\n",
    "# Create a file name\n",
    "yesterday = dt.date.today() - dt.timedelta(days=1)\n",
    "filename = '{}{}{}_improved.html'.format(tickerSymbol, strategy, yesterday)\n",
    "\n",
    "# Create a line plot\n",
    "fig = go.Figure()\n",
    "\n",
    "# Add line plot\n",
    "fig.add_trace(go.Scatter(x=pl_table['price_range'], y=pl_table['profit'], mode='lines', showlegend=False))\n",
    "\n",
    "# Add horizontal line\n",
    "fig.add_trace(go.Scatter(x=pl_table['price_range'], y=np.zeros(len(pl_table['price_range'])), mode='lines', line=dict(color=\"black\"), showlegend=False))\n",
    "\n",
    "# Add filled area plot for profit >= 0\n",
    "fig.add_trace(go.Scatter(\n",
    "    x=pl_table['price_range'], \n",
    "    y=np.where(pl_table['profit'] >= 0, pl_table['profit'], 0), \n",
    "    fill='tozeroy', \n",
    "    fillcolor='rgba(0,200,0,0.2)',\n",
    "    line_color='rgba(255,255,255,0)',\n",
    "    showlegend=False,\n",
    "))\n",
    "\n",
    "# Add filled area plot for profit < 0\n",
    "fig.add_trace(go.Scatter(\n",
    "    x=pl_table['price_range'], \n",
    "    y=np.where(pl_table['profit'] < 0, pl_table['profit'], 0), \n",
    "    fill='tozeroy', \n",
    "    fillcolor='rgba(200,0,0,0.2)',\n",
    "    line_color='rgba(255,255,255,0)',\n",
    "    showlegend=False,\n",
    "))\n",
    "\n",
    "# Set title, labels and layout options\n",
    "fig.update_layout(\n",
    "    title={\n",
    "        'text': f\"P/L Chart for {tickerSymbol} {strategy}\",\n",
    "        'y':0.9,\n",
    "        'x':0.5,\n",
    "        'xanchor': 'center',\n",
    "        'yanchor': 'top'},\n",
    "    title_font_size=20,\n",
    "    autosize=False,\n",
    "    width=800, # Increased width\n",
    "    height=600, # Increased height\n",
    "    margin=dict(\n",
    "        l=50,\n",
    "        r=50,\n",
    "        b=100,\n",
    "        t=100,\n",
    "        pad=4\n",
    "    ),\n",
    "    xaxis_title=\"Price Range\",\n",
    "    yaxis_title=\"Profit\",\n",
    "    showlegend=False, # Hide the legend\n",
    "    font=dict(\n",
    "        family=\"Arial\",\n",
    "        size=18,\n",
    "        color=\"RebeccaPurple\"\n",
    "    )\n",
    ")\n",
    "\n",
    "# Convert expiry_date to required format\n",
    "formatted_expiry_date = expiry_date.strftime('%Y/%m/%d')\n",
    "\n",
    "# Set a subtitle\n",
    "fig.add_annotation(\n",
    "    xref=\"paper\",\n",
    "    yref=\"paper\",\n",
    "    x=0.5,\n",
    "    y=1.05,\n",
    "    text=f\"Expiry date: {formatted_expiry_date}\", # Formatted date\n",
    "    showarrow=False,\n",
    "    font=dict(size=14)\n",
    ")\n",
    "\n",
    "# Save the plot as an interactive HTML file\n",
    "pio.write_html(fig, filename)\n",
    "\n",
    "# Show plot\n",
    "fig.show()\n"
   ]
  },
  {
   "cell_type": "code",
   "execution_count": 255,
   "metadata": {},
   "outputs": [
    {
     "data": {
      "image/png": "[encoded data removed]",
      "text/plain": [
       "<Figure size 720x576 with 1 Axes>"
      ]
     },
     "metadata": {
      "needs_background": "light"
     },
     "output_type": "display_data"
    }
   ],
   "source": [
    "import matplotlib.pyplot as plt\n",
    "import matplotlib.patches as patches\n",
    "\n",
    "# Create a figure and a set of subplots\n",
    "fig, ax = plt.subplots(figsize=(10, 8))  # Increased size of the plot\n",
    "\n",
    "# Plot data\n",
    "ax.plot(pl_table['price_range'], pl_table['profit'], label='_nolegend_')  # Hide the legend for the line plot\n",
    "\n",
    "# Add horizontal line at y=0\n",
    "ax.axhline(0, color='black')\n",
    "\n",
    "# Add shaded areas\n",
    "profit_positive = pl_table['profit'] >= 0\n",
    "profit_negative = pl_table['profit'] < 0\n",
    "\n",
    "# Shading profit >= 0 region with light green\n",
    "ax.fill_between(pl_table['price_range'], pl_table['profit'], 0, where=profit_positive, interpolate=True, color='green', alpha=0.3)\n",
    "\n",
    "# Shading profit < 0 region with light red\n",
    "ax.fill_between(pl_table['price_range'], pl_table['profit'], 0, where=profit_negative, interpolate=True, color='red', alpha=0.3)\n",
    "\n",
    "# Set title and labels\n",
    "ax.set_title(f\"P/L Chart for {tickerSymbol} {strategy}\", fontsize=20, pad=30)  # Increased font size and pad\n",
    "ax.set_xlabel(\"Price Range\", fontsize=14)  # Increased font size\n",
    "ax.set_ylabel(\"Profit\", fontsize=14)  # Increased font size\n",
    "\n",
    "# Add subtitle\n",
    "formatted_expiry_date = expiry_date.strftime('%Y/%m/%d')  # Format the expiry_date to 'YYYY/MM/DD'\n",
    "plt.figtext(0.5, 0.9, f\"Expiry date: {formatted_expiry_date}\", ha=\"center\", fontsize=14)  # Centered subtitle with formatted date\n",
    "\n",
    "ax.grid()\n",
    "\n",
    "# Display the plot\n",
    "plt.show()\n"
   ]
  },
  {
   "cell_type": "code",
   "execution_count": null,
   "metadata": {},
   "outputs": [],
   "source": []
  },
  {
   "cell_type": "code",
   "execution_count": null,
   "metadata": {},
   "outputs": [],
   "source": []
  },
  {
   "cell_type": "code",
   "execution_count": null,
   "metadata": {},
   "outputs": [],
   "source": []
  }
 ],
 "metadata": {
  "kernelspec": {
   "display_name": "Python 3",
   "language": "python",
   "name": "python3"
  },
  "language_info": {
   "codemirror_mode": {
    "name": "ipython",
    "version": 3
   },
   "file_extension": ".py",
   "mimetype": "text/x-python",
   "name": "python",
   "nbconvert_exporter": "python",
   "pygments_lexer": "ipython3",
   "version": "3.10.1"
  },
  "orig_nbformat": 4
 },
 "nbformat": 4,
 "nbformat_minor": 2
}
